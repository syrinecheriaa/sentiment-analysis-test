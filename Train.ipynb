{
  "cells": [
    {
      "cell_type": "markdown",
      "source": [
        "**Sentiment analysis project**"
      ],
      "metadata": {
        "id": "isZCxMNpr0j5"
      }
    },
    {
      "cell_type": "markdown",
      "source": [
        "**In this notebook, we present the training process of different multilingual language models for a sentiment analysis task.**\n",
        "The goal of this work is to deliver a sentiment-analysis model with \"acceptable\" performances ready-to be used. I am aware that further optimization can be applied.\n",
        "---\n",
        "\n"
      ],
      "metadata": {
        "id": "vvMop4rpsKux"
      }
    },
    {
      "cell_type": "markdown",
      "source": [
        "In this work we will use two different transformer models:\n",
        "1. [xlm-roberta](https://arxiv.org/pdf/1911.02116.pdf)\n",
        "2. [deberta](https://arxiv.org/abs/2006.03654) with its multilingual version <br>\n",
        "Originally, those two models were pre-trained on the same corpus CC-100. However, we will use two variants of xlm-r: the original version that was only pre-trained on CC-100 that we call **xlm-r original** and one, that we call **xlm-r tweets** that was obtained by further pre-training the original version on a 190M tweets and fine-tuned on sentiment analysis task. <br>\n"
      ],
      "metadata": {
        "id": "UQ60AeSgp9w8"
      }
    },
    {
      "cell_type": "markdown",
      "metadata": {
        "id": "3-C-9hZck5w9"
      },
      "source": [
        "## **Installing libraries**"
      ]
    },
    {
      "cell_type": "markdown",
      "source": [
        "Before starting, lets install the required libraries that are not all-ready installed in the google colaboratory kernel.\n"
      ],
      "metadata": {
        "id": "sFauE9ixAT1Z"
      }
    },
    {
      "cell_type": "code",
      "execution_count": 1,
      "metadata": {
        "colab": {
          "base_uri": "https://localhost:8080/"
        },
        "id": "4MfKoB2L3SL0",
        "outputId": "012b77a6-eb4f-4590-c7f2-9df0eb71461a"
      },
      "outputs": [
        {
          "output_type": "stream",
          "name": "stdout",
          "text": [
            "\u001b[K     |████████████████████████████████| 3.4 MB 8.9 MB/s \n",
            "\u001b[K     |████████████████████████████████| 596 kB 54.4 MB/s \n",
            "\u001b[K     |████████████████████████████████| 61 kB 287 kB/s \n",
            "\u001b[K     |████████████████████████████████| 3.3 MB 32.8 MB/s \n",
            "\u001b[K     |████████████████████████████████| 895 kB 42.7 MB/s \n",
            "\u001b[?25hCollecting sentencepiece\n",
            "  Downloading sentencepiece-0.1.96-cp37-cp37m-manylinux_2_17_x86_64.manylinux2014_x86_64.whl (1.2 MB)\n",
            "\u001b[K     |████████████████████████████████| 1.2 MB 6.7 MB/s \n",
            "\u001b[?25hInstalling collected packages: sentencepiece\n",
            "Successfully installed sentencepiece-0.1.96\n",
            "Collecting langdetect\n",
            "  Downloading langdetect-1.0.9.tar.gz (981 kB)\n",
            "\u001b[K     |████████████████████████████████| 981 kB 8.2 MB/s \n",
            "\u001b[?25hRequirement already satisfied: six in /usr/local/lib/python3.7/dist-packages (from langdetect) (1.15.0)\n",
            "Building wheels for collected packages: langdetect\n",
            "  Building wheel for langdetect (setup.py) ... \u001b[?25l\u001b[?25hdone\n",
            "  Created wheel for langdetect: filename=langdetect-1.0.9-py3-none-any.whl size=993242 sha256=fa3657419b895522ca07bda1ac92a3f71cdb2d876c9963c086ce15ba2b29f7b6\n",
            "  Stored in directory: /root/.cache/pip/wheels/c5/96/8a/f90c59ed25d75e50a8c10a1b1c2d4c402e4dacfa87f3aff36a\n",
            "Successfully built langdetect\n",
            "Installing collected packages: langdetect\n",
            "Successfully installed langdetect-1.0.9\n"
          ]
        }
      ],
      "source": [
        "!pip install -q transformers\n",
        "!pip install sentencepiece\n",
        "!pip install langdetect"
      ]
    },
    {
      "cell_type": "markdown",
      "metadata": {
        "id": "0NXlCk5kjG8S"
      },
      "source": [
        "## **Importing libraries and connecting the drive for the data import**"
      ]
    },
    {
      "cell_type": "code",
      "execution_count": 2,
      "metadata": {
        "id": "PTQPFoXIhSSR"
      },
      "outputs": [],
      "source": [
        "\n",
        "import transformers\n",
        "import torch\n",
        "from torch.utils.data import DataLoader\n",
        "from torch import cuda\n",
        "\n",
        "from transformers import AutoTokenizer, AutoModelForSequenceClassification, AdamW\n",
        "from sklearn.model_selection import train_test_split\n",
        "from sklearn import metrics\n",
        "\n",
        "import json\n",
        "import matplotlib.pyplot as plt\n",
        "import seaborn as sns\n",
        "import numpy as np\n",
        "import os\n",
        "import pandas as pd\n",
        "\n"
      ]
    },
    {
      "cell_type": "markdown",
      "source": [
        "Mounting the google drive in order to import the data\n"
      ],
      "metadata": {
        "id": "veQH85hZtSDb"
      }
    },
    {
      "cell_type": "code",
      "source": [
        "from google.colab import drive\n",
        "\n",
        "drive.mount('/content/drive')\n",
        "os.chdir('drive/MyDrive/Synthesio')"
      ],
      "metadata": {
        "id": "wMpvJyo4tRns",
        "colab": {
          "base_uri": "https://localhost:8080/"
        },
        "outputId": "5ddacf71-b84f-44c1-88ff-f3b2c8b9883a"
      },
      "execution_count": 3,
      "outputs": [
        {
          "output_type": "stream",
          "name": "stdout",
          "text": [
            "Mounted at /content/drive\n"
          ]
        }
      ]
    },
    {
      "cell_type": "markdown",
      "metadata": {
        "id": "-z1JeaA7jWZp"
      },
      "source": [
        "\n",
        "# **Reading and preparing the data**\n"
      ]
    },
    {
      "cell_type": "code",
      "execution_count": 4,
      "metadata": {
        "id": "t7Gclx_v4yuR"
      },
      "outputs": [],
      "source": [
        "df = pd.read_csv('Data/train.csv')\n",
        "test = pd.read_csv('Data/test.csv')\n",
        "df = df[df['sentiment'] != 'unassigned']"
      ]
    },
    {
      "cell_type": "markdown",
      "source": [
        "**Data preparation**"
      ],
      "metadata": {
        "id": "d3nMB1vzBIBv"
      }
    },
    {
      "cell_type": "markdown",
      "source": [
        "\n",
        "\n",
        "\n",
        "1.   We start by splitting the data into two parts: train dataset (80%) and validation dataset (20%). The first one is used to fine-tune the different models and the second one is only used to evaluate the models in order to apply early stopping and to compare of the final results of the models.\n",
        "2. In order to adapt those datasets to the models' input format: \n",
        "\n",
        "*   we apply the ordinal encoding to categories/sentiments using a categories_encoding dictionary.\n",
        "*   we use a pre-trained tokenizer to encode the text in the adequate input format of each pre-trained language model. <br>\n",
        "\n",
        "3.   we create data loaders for both dataset with **batch size=8** which helps parallelizing the learning process.\n",
        "\n",
        "\n",
        "NB1: we chose the maximal batch size that allows us to make the experiments with the available gpu on google collaboratory. Feel free to increase this value if you have more gpu memory.\n",
        "\n",
        "NB2: no data pre-processing is done before passing the text to the tokenizers."
      ],
      "metadata": {
        "id": "JuX0JZv2BFdR"
      }
    },
    {
      "cell_type": "code",
      "execution_count": 5,
      "metadata": {
        "id": "nuyGPrtnqrqv",
        "colab": {
          "base_uri": "https://localhost:8080/"
        },
        "outputId": "46fc90f4-be45-4120-d396-b3cd50613c9d"
      },
      "outputs": [
        {
          "output_type": "stream",
          "name": "stderr",
          "text": [
            "/usr/local/lib/python3.7/dist-packages/ipykernel_launcher.py:2: SettingWithCopyWarning: \n",
            "A value is trying to be set on a copy of a slice from a DataFrame.\n",
            "Try using .loc[row_indexer,col_indexer] = value instead\n",
            "\n",
            "See the caveats in the documentation: https://pandas.pydata.org/pandas-docs/stable/user_guide/indexing.html#returning-a-view-versus-a-copy\n",
            "  \n"
          ]
        }
      ],
      "source": [
        "categories_encoding = {'negative': 0, 'neutral':1, 'positive':2 }\n",
        "df['sentiment'] = df['sentiment'].replace(categories_encoding)"
      ]
    },
    {
      "cell_type": "code",
      "execution_count": 6,
      "metadata": {
        "colab": {
          "base_uri": "https://localhost:8080/",
          "height": 206
        },
        "id": "ED9VtgP7-TZM",
        "outputId": "77e5d673-bb1c-4552-808b-fc4bbfb7ef7b"
      },
      "outputs": [
        {
          "output_type": "execute_result",
          "data": {
            "text/html": [
              "<div>\n",
              "<style scoped>\n",
              "    .dataframe tbody tr th:only-of-type {\n",
              "        vertical-align: middle;\n",
              "    }\n",
              "\n",
              "    .dataframe tbody tr th {\n",
              "        vertical-align: top;\n",
              "    }\n",
              "\n",
              "    .dataframe thead th {\n",
              "        text-align: right;\n",
              "    }\n",
              "</style>\n",
              "<table border=\"1\" class=\"dataframe\">\n",
              "  <thead>\n",
              "    <tr style=\"text-align: right;\">\n",
              "      <th></th>\n",
              "      <th>content</th>\n",
              "      <th>sentiment</th>\n",
              "    </tr>\n",
              "  </thead>\n",
              "  <tbody>\n",
              "    <tr>\n",
              "      <th>0</th>\n",
              "      <td>Не подошло.</td>\n",
              "      <td>0</td>\n",
              "    </tr>\n",
              "    <tr>\n",
              "      <th>1</th>\n",
              "      <td>товара нет, деньги вернул</td>\n",
              "      <td>0</td>\n",
              "    </tr>\n",
              "    <tr>\n",
              "      <th>2</th>\n",
              "      <td>[옵션]문풍지종류선택:3M실내용,규격선택:4. 대형</td>\n",
              "      <td>1</td>\n",
              "    </tr>\n",
              "    <tr>\n",
              "      <th>3</th>\n",
              "      <td>Kirain Alice rokoknya esse change wkwk</td>\n",
              "      <td>1</td>\n",
              "    </tr>\n",
              "    <tr>\n",
              "      <th>4</th>\n",
              "      <td>El hotel ideal para descansar y relajarte. El ...</td>\n",
              "      <td>2</td>\n",
              "    </tr>\n",
              "  </tbody>\n",
              "</table>\n",
              "</div>"
            ],
            "text/plain": [
              "                                             content  sentiment\n",
              "0                                        Не подошло.          0\n",
              "1                          товара нет, деньги вернул          0\n",
              "2                       [옵션]문풍지종류선택:3M실내용,규격선택:4. 대형          1\n",
              "3             Kirain Alice rokoknya esse change wkwk          1\n",
              "4  El hotel ideal para descansar y relajarte. El ...          2"
            ]
          },
          "metadata": {},
          "execution_count": 6
        }
      ],
      "source": [
        "df.head()"
      ]
    },
    {
      "cell_type": "markdown",
      "metadata": {
        "id": "Q9omMCPdLZ0G"
      },
      "source": [
        "Splitting the data into 2 parts train, validation and creating the dataloaders"
      ]
    },
    {
      "cell_type": "code",
      "execution_count": 7,
      "metadata": {
        "id": "-lZbIARmr-An"
      },
      "outputs": [],
      "source": [
        "def create_dataset(data, tokenizer, max_length=512):\n",
        "\n",
        "  X_train, X_val, Y_train, Y_val = train_test_split(list(data['content']), \n",
        "                                                      data['sentiment'],\n",
        "                                                      test_size=0.2,\n",
        "                                                      random_state=42)\n",
        "  \n",
        "  Y_train.index = range(len(Y_train))\n",
        "  Y_val.index = range(len(Y_val))\n",
        "  train_encodings = tokenizer(X_train,\n",
        "                              truncation=True,\n",
        "                              padding=True, \n",
        "                              max_length=max_length)\n",
        "  val_encodings = tokenizer(X_val,\n",
        "                            truncation=True,\n",
        "                            padding=True,\n",
        "                            max_length=max_length)\n",
        "\n",
        "  return train_encodings, np.array(Y_train), val_encodings, np.array(Y_val)\n",
        "\n",
        "\n"
      ]
    },
    {
      "cell_type": "code",
      "execution_count": 8,
      "metadata": {
        "id": "L-x_QilRmgC-"
      },
      "outputs": [],
      "source": [
        "class Sentiment_analysis_dataset(torch.utils.data.Dataset):\n",
        "\n",
        "  def __init__(self, encodings, labels):\n",
        "    self.encodings = encodings\n",
        "    self.labels = labels\n",
        "  \n",
        "  def __getitem__(self, idx):\n",
        "    item = {key:torch.tensor(val[idx]) for key, val in self.encodings.items()}\n",
        "    item['labels'] = torch.tensor(self.labels[idx])\n",
        "    return item\n",
        "  \n",
        "  def __len__(self):\n",
        "    return len(self.labels)\n",
        "    "
      ]
    },
    {
      "cell_type": "code",
      "source": [
        "train_params = {'batch_size': 8,\n",
        "                'shuffle': True,\n",
        "                'num_workers': 0\n",
        "                }\n",
        "\n",
        "test_params = {'batch_size': 8,\n",
        "                'shuffle': False,\n",
        "                'num_workers': 0\n",
        "                }\n",
        "device = 'cuda' if torch.cuda.is_available() else 'cpu'\n"
      ],
      "metadata": {
        "id": "ObYwZ1FWikNE"
      },
      "execution_count": 9,
      "outputs": []
    },
    {
      "cell_type": "markdown",
      "source": [
        "**Training  details**"
      ],
      "metadata": {
        "id": "wyfYpwLtCII3"
      }
    },
    {
      "cell_type": "markdown",
      "source": [
        "We define and train all the models following the same plan:\n",
        "\n",
        "\n",
        "*   We adapt the language model to the downstream task by adding a dropout and a fully connected layer on top of the encoder of the language model. The dropout layer have as input the last hidden state of the CLS token. This method is commonly used in the literature and it is recommended by the publisher of multiple language models ([xlm-r](https://arxiv.org/abs/1911.02116), [Bert](https://arxiv.org/abs/1810.04805),...)\n",
        "* During the fine-tuning, we freeze the encoder's parameter. We make this choice for computational reasons. I am aware that this can prevent the model from learning the domain-related characteristics. I believe that this point can be handled in further iterations.\n",
        "*   In order to over over fitting, we apply early stopping. We stop the fine-tuning as soon as the validation loss stop decreasing. In fact, by doing so, we adapt the number of epochs to the model: we don't fix the number of epochs, but we stop the training once we observe that the validation loss didn't decrease for three successive epochs. \n"
      ],
      "metadata": {
        "id": "RKeYRkijCIl2"
      }
    },
    {
      "cell_type": "markdown",
      "source": [
        "* **The oprimizer**\n",
        "We choose the **Adam** optimizer in its simplest format (without weight decay, without learning rate scheduler). We chose this optimizer because it is known to be performant and help the model generalize specially with multidimensional data such as text.\n",
        "\n",
        "\n",
        "* **The loss function**\n",
        "The last layer of the different models is a fully-connected layer that takes as input the last hidden state of the CLS token (after applying the dropout) and output a vector of size 3 (the number of categories). Since we are dealing with a multiclass task, we apply the **softmax** function to get the probability attributed by the model to each class.\n",
        "After that we compute the **cross entropy loss** between those probabilities and the ground truth.\n",
        "\n"
      ],
      "metadata": {
        "id": "4K92agkQdWQn"
      }
    },
    {
      "cell_type": "markdown",
      "source": [
        "Next, we develop diffrent classes and functions that can be used during the training."
      ],
      "metadata": {
        "id": "R0S3WFVwX8IZ"
      }
    },
    {
      "cell_type": "code",
      "source": [
        "class EarlyStopping():\n",
        "  def __init__(self, patience=3, mode='min'):\n",
        "    self.patience = patience\n",
        "    self.best = None\n",
        "    self.mode = mode\n",
        "    self.num_bad_epochs = 0\n",
        "  def step(self, metrics):\n",
        "    if self.best is None:\n",
        "      self.best = metrics\n",
        "      return False\n",
        "\n",
        "    if self.is_better(metrics):\n",
        "      self.num_bad_epochs = 0\n",
        "      self.best = metrics\n",
        "      \n",
        "    else:\n",
        "      self.num_bad_epochs += 1\n",
        "    \n",
        "    if self.num_bad_epochs >= self.patience:\n",
        "      return True\n",
        "    return False\n",
        "\n",
        "  def is_better(self, metrics):\n",
        "    if self.mode == 'min':\n",
        "      if metrics < self.best:\n",
        "        return True\n",
        "      return False\n",
        "    \n",
        "    if self.mode == 'max':\n",
        "      if metrics > self.best:\n",
        "        return True\n",
        "      return False\n",
        "      "
      ],
      "metadata": {
        "id": "h8I7pMShn8xK"
      },
      "execution_count": 10,
      "outputs": []
    },
    {
      "cell_type": "code",
      "source": [
        "class ModelSaver():\n",
        "  def __init__(self,  name, mode='min'):\n",
        "    self.best_metrics = None\n",
        "    self.name = name\n",
        "    self.mode = mode\n",
        "\n",
        "  def save(self, model, metrics):\n",
        "    if (self.best_metrics == None) or \\\n",
        "       (self.mode == 'min' and metrics < self.best_metrics) or \\\n",
        "       (self.mode == 'max' and metrics > self.best_metrics):\n",
        "        self.best_metrics = metrics\n",
        "        torch.save(model.state_dict(), 'best_model_{}.pth'.format(self.name))\n",
        "\n"
      ],
      "metadata": {
        "id": "0_0IYaYmb6Bp"
      },
      "execution_count": 11,
      "outputs": []
    },
    {
      "cell_type": "code",
      "execution_count": 12,
      "metadata": {
        "id": "oqWtPpoLCj9V"
      },
      "outputs": [],
      "source": [
        "def eval(model, val_dataloader):\n",
        "  y_pred = []\n",
        "  y_true = []\n",
        "  eval_loss = 0.0\n",
        "  for batch in val_loader:\n",
        "    input_ids = batch['input_ids'].to(device, dtype = torch.long)\n",
        "    attention_mask = batch['attention_mask'].to(device, dtype = torch.long)\n",
        "    labels = batch['labels'].to(device, dtype = torch.long)\n",
        "    outputs = model(input_ids, attention_mask)\n",
        "    \n",
        "    loss = loss_fn(outputs.logits, labels)\n",
        "    eval_loss += loss.item()\n",
        "    y_pred.extend(np.argmax(torch.nn.Softmax(dim=1)\n",
        "                  (outputs.logits).cpu().detach().numpy(), axis=1).tolist())\n",
        "    \n",
        "    y_true.extend(labels.cpu().detach().numpy().tolist())\n",
        "\n",
        "  return eval_loss/len(val_dataloader), metrics.f1_score(y_true,\n",
        "                                                         y_pred,\n",
        "                                                         average='micro')\n",
        "\n"
      ]
    },
    {
      "cell_type": "code",
      "source": [
        "def loss_fn(outputs, targets):\n",
        "    return torch.nn.CrossEntropyLoss()(outputs, targets)\n"
      ],
      "metadata": {
        "id": "wt1UZ1SnoMps"
      },
      "execution_count": 13,
      "outputs": []
    },
    {
      "cell_type": "markdown",
      "source": [
        "## **Fine-tuning xlm-r original**"
      ],
      "metadata": {
        "id": "P_3ABROJix1p"
      }
    },
    {
      "cell_type": "markdown",
      "source": [
        "### **Defining the model**"
      ],
      "metadata": {
        "id": "Jdm1-Qm7lb4O"
      }
    },
    {
      "cell_type": "markdown",
      "source": [
        "### **Creating dataloaders**\n",
        "\n",
        "\n"
      ],
      "metadata": {
        "id": "jk_6sgGDlpuM"
      }
    },
    {
      "cell_type": "markdown",
      "source": [
        "**Choosing the maximum length of the input sequence**\n"
      ],
      "metadata": {
        "id": "aQgfe9vFZnwT"
      }
    },
    {
      "cell_type": "code",
      "source": [
        "tokenizer = AutoTokenizer.from_pretrained('xlm-roberta-base')\n",
        "nb_tokens = []\n",
        "tokenized = tokenizer(df.content.tolist(),truncation=True, max_length=512)\n",
        "for input_ids in tokenized['input_ids']:\n",
        "  nb_tokens.append(len(input_ids))\n",
        "plt.hist(nb_tokens)\n",
        "plt.show()\n",
        "print('{}% of the contents contain less than100 tokens'.format(round(sum(map(lambda x: x<=100, nb_tokens))/len(nb_tokens),2)))\n"
      ],
      "metadata": {
        "colab": {
          "base_uri": "https://localhost:8080/",
          "referenced_widgets": [
            "f6d829eb3ae34fbeadd26d7b4d44d378",
            "e5f5732a943843328eab25e10c386379",
            "0be67072fd324bdb987e6d99de0a02e2",
            "9e92ac18e26c425bb895f2a465fb2296",
            "513bac7f0cb94e31b9dc2f2f01cc7fe0",
            "6a0418ca5a43453489cf65bda906eed0",
            "06d500da92594cbcb44b348c66f6d261",
            "d43b51eefdef4c0c957e1619d23627c0",
            "ae9e4bade6d442c0b94af9302970805f",
            "b245e4f7b2c341229d5d82e720c32e2c",
            "70997ea88d8443e2800e421f670509af",
            "fda7d07c96a74ba49b77e85075e39c9d",
            "d929b462e9e94dd788b4eee3442f5ab2",
            "8ceaf144be204eca9ada15729d66a024",
            "d54bdde735ed4faa97aa40689dac04ba",
            "01954923d7b741778cf63ac1b15a1c1f",
            "14c6788563224a1faa37adaf685fb064",
            "01db869d38b54ecf84aeda19bd41c77b",
            "2c7edf2228c74934b27723f375dc8759",
            "57b58186f06e4cabbd0701110220c7f0",
            "f8b340da3a504cca8826a0c4c71ed5b6",
            "a669d163b84d481aa982c2c692bd3a3b",
            "aa52a027751946c3b796d8eb374d9ba4",
            "f4a505e47c53460a8a89077a0814aaf2",
            "bd08046163564ccdba91ece6494a22de",
            "f474c8b4beb245a380abe358b2bbcc07",
            "f214d3f0a63f491888ecacd8a1272c34",
            "e604e3b391a447359e6473413f58cf06",
            "2ba266b078f049b3be27da897f9447ed",
            "a031181e56024a69b5f3967b0923e509",
            "f1fb9809ca484c438136ba9bc0d320f2",
            "9eb3595af56b456591c7a0314092e9a6",
            "9f0501ed07fc480289c41b0e71f934e8"
          ],
          "height": 379
        },
        "id": "E54MwqJ9ZnFs",
        "outputId": "488aabf3-1ba5-4c18-b81f-f7e9b45f5b08"
      },
      "execution_count": 14,
      "outputs": [
        {
          "output_type": "display_data",
          "data": {
            "application/vnd.jupyter.widget-view+json": {
              "model_id": "f6d829eb3ae34fbeadd26d7b4d44d378",
              "version_minor": 0,
              "version_major": 2
            },
            "text/plain": [
              "Downloading:   0%|          | 0.00/512 [00:00<?, ?B/s]"
            ]
          },
          "metadata": {}
        },
        {
          "output_type": "display_data",
          "data": {
            "application/vnd.jupyter.widget-view+json": {
              "model_id": "fda7d07c96a74ba49b77e85075e39c9d",
              "version_minor": 0,
              "version_major": 2
            },
            "text/plain": [
              "Downloading:   0%|          | 0.00/4.83M [00:00<?, ?B/s]"
            ]
          },
          "metadata": {}
        },
        {
          "output_type": "display_data",
          "data": {
            "application/vnd.jupyter.widget-view+json": {
              "model_id": "aa52a027751946c3b796d8eb374d9ba4",
              "version_minor": 0,
              "version_major": 2
            },
            "text/plain": [
              "Downloading:   0%|          | 0.00/8.68M [00:00<?, ?B/s]"
            ]
          },
          "metadata": {}
        },
        {
          "output_type": "display_data",
          "data": {
            "image/png": "[encoded data removed]",
            "text/plain": [
              "<Figure size 432x288 with 1 Axes>"
            ]
          },
          "metadata": {
            "needs_background": "light"
          }
        },
        {
          "output_type": "stream",
          "name": "stdout",
          "text": [
            "0.94% of the contents contain less than100 tokens\n"
          ]
        }
      ]
    },
    {
      "cell_type": "markdown",
      "source": [
        "I choose to encode the input sequence using **100 tokens**."
      ],
      "metadata": {
        "id": "4a4Ed6lGZt0l"
      }
    },
    {
      "cell_type": "code",
      "source": [
        "tokenizer = AutoTokenizer.from_pretrained('xlm-roberta-base')\n",
        "train, y_train, val, y_val = create_dataset(df, tokenizer)\n",
        "train_dataset = Sentiment_analysis_dataset(train, y_train)\n",
        "val_dataset = Sentiment_analysis_dataset(val, y_val)\n",
        "training_loader = DataLoader(train_dataset, **train_params)\n",
        "val_loader = DataLoader(val_dataset, **test_params)"
      ],
      "metadata": {
        "id": "omLy-Q9FlsA_"
      },
      "execution_count": 15,
      "outputs": []
    },
    {
      "cell_type": "markdown",
      "source": [
        "### **Train**"
      ],
      "metadata": {
        "id": "fl5XHIdkmD93"
      }
    },
    {
      "cell_type": "code",
      "source": [
        "model = AutoModelForSequenceClassification.from_pretrained('xlm-roberta-base', num_labels = 3)\n",
        "model.to(device) \n",
        "model.train()"
      ],
      "metadata": {
        "id": "PzBHVal1iqn1"
      },
      "execution_count": null,
      "outputs": []
    },
    {
      "cell_type": "code",
      "source": [
        "optimizer = AdamW(model.parameters(), lr = 5e-5)\n",
        "model_saver = ModelSaver('xlmr_original')\n",
        "early_stopping = EarlyStopping()"
      ],
      "metadata": {
        "id": "qrqTJKPxdHIu"
      },
      "execution_count": 18,
      "outputs": []
    },
    {
      "cell_type": "code",
      "source": [
        "num_epochs = 30\n",
        "model.to(device) \n",
        "for epoch in range(num_epochs):\n",
        "  model.train()\n",
        "  for param in model.base_model.parameters():\n",
        "    param.requires_grad = False\n",
        "\n",
        "  print(epoch+1)\n",
        "  running_loss = 0.0\n",
        "  for batch in training_loader:\n",
        "    \n",
        "    input_ids = batch['input_ids'].to(device, dtype = torch.long)\n",
        "    attention_mask = batch['attention_mask'].to(device, dtype = torch.long)\n",
        "    labels = batch['labels'].to(device, dtype = torch.long)\n",
        "    outputs = model(input_ids, attention_mask)\n",
        "    loss = loss_fn(outputs.logits, labels)\n",
        "    loss.backward()\n",
        "    optimizer.step()\n",
        "    optimizer.zero_grad()\n",
        "    running_loss += loss.item()\n",
        "  \n",
        "  print('evaluating ..')\n",
        "  eval_loss = 0.0\n",
        "  model.eval()\n",
        "  eval_loss, f1_score = eval(model, val_loader)\n",
        "  model_saver.save(model, eval_loss)\n",
        "  if early_stopping.step(eval_loss):\n",
        "    print('early stoppong the training')\n",
        "    break\n",
        "    "
      ],
      "metadata": {
        "id": "RbSqiTJqsKR9"
      },
      "execution_count": null,
      "outputs": []
    },
    {
      "cell_type": "markdown",
      "metadata": {
        "id": "iNqtxGG-Ok0M"
      },
      "source": [
        "## **Fine tuning xlm-r tweets**"
      ]
    },
    {
      "cell_type": "markdown",
      "source": [
        "### **Definig the model**"
      ],
      "metadata": {
        "id": "LeS2xB9KmX-O"
      }
    },
    {
      "cell_type": "code",
      "source": [
        "MODEL = f\"cardiffnlp/twitter-xlm-roberta-base-sentiment\"\n",
        "tokenizer = AutoTokenizer.from_pretrained(MODEL)\n",
        "model = AutoModelForSequenceClassification.from_pretrained(MODEL)\n",
        "model.to(device)\n",
        "model.train()\n"
      ],
      "metadata": {
        "id": "y4luKlg5io-9"
      },
      "execution_count": null,
      "outputs": []
    },
    {
      "cell_type": "markdown",
      "source": [
        "### **Creating dataloaders**"
      ],
      "metadata": {
        "id": "tdBtyOVVma08"
      }
    },
    {
      "cell_type": "code",
      "execution_count": null,
      "metadata": {
        "id": "97t7a2DfHcFx"
      },
      "outputs": [],
      "source": [
        "train, y_train, val, y_val = create_dataset(df, tokenizer)\n",
        "train_dataset = Sentiment_analysis_dataset(train, y_train)\n",
        "val_dataset = Sentiment_analysis_dataset(val, y_val)\n",
        "training_loader = DataLoader(train_dataset, **train_params)\n",
        "val_loader = DataLoader(val_dataset, **test_params)"
      ]
    },
    {
      "cell_type": "markdown",
      "source": [
        "### **Train**"
      ],
      "metadata": {
        "id": "gzXMsYR1me9L"
      }
    },
    {
      "cell_type": "code",
      "source": [
        "optimizer = AdamW(model.parameters(), lr = 5e-5)\n",
        "model_saver = ModelSaver('xlmr_tweets_fine_tuned')\n",
        "early_stopping = EarlyStopping()"
      ],
      "metadata": {
        "id": "T-9__qlgd7US"
      },
      "execution_count": 21,
      "outputs": []
    },
    {
      "cell_type": "code",
      "source": [
        "\n",
        "num_epochs = 30\n",
        "model.to(device) \n",
        "for epoch in range(num_epochs):\n",
        "  model.train()\n",
        "  for param in model.base_model.parameters():\n",
        "    param.requires_grad = False\n",
        "\n",
        "  print(epoch+1)\n",
        "  running_loss = 0.0\n",
        "  for batch in training_loader:\n",
        "    \n",
        "    input_ids = batch['input_ids'].to(device, dtype = torch.long)\n",
        "    attention_mask = batch['attention_mask'].to(device, dtype = torch.long)\n",
        "    labels = batch['labels'].to(device, dtype = torch.long)\n",
        "    outputs = model(input_ids, attention_mask)\n",
        "    loss = loss_fn(outputs.logits, labels)\n",
        "    loss.backward()\n",
        "    optimizer.step()\n",
        "    optimizer.zero_grad()\n",
        "    running_loss += loss.item()\n",
        "  \n",
        "  print('evaluating ..')\n",
        "  \n",
        "  model.eval()\n",
        "  eval_loss, f1_score = eval(model, val_loader)\n",
        "  model_saver.save(model, eval_loss)\n",
        "  if early_stopping.step(eval_loss):\n",
        "    print('early stoppong the training')\n",
        "    break\n"
      ],
      "metadata": {
        "id": "Q6Pwvx5Wmg9G"
      },
      "execution_count": null,
      "outputs": []
    },
    {
      "cell_type": "markdown",
      "source": [
        "## **Fine tuning Deberta**"
      ],
      "metadata": {
        "id": "bmrvChX-m8pf"
      }
    },
    {
      "cell_type": "markdown",
      "source": [
        "### **Defining the model**"
      ],
      "metadata": {
        "id": "c7krO2X4nu66"
      }
    },
    {
      "cell_type": "code",
      "source": [
        "deberta = f'microsoft/mdeberta-v3-base'\n",
        "tokenizer = AutoTokenizer.from_pretrained(deberta)\n",
        "model = AutoModelForSequenceClassification.from_pretrained(deberta, num_labels = 3)"
      ],
      "metadata": {
        "colab": {
          "base_uri": "https://localhost:8080/",
          "height": 273,
          "referenced_widgets": [
            "a0a66a0e015e4309804aa90bf86655a0",
            "9c130655e6d145d791da35f4da731268",
            "75936a56f6404931b897369e05a04eab",
            "152ff2ebdc064c40ae9d33eaa393811e",
            "5e6c7e9efd164423a0f5679fafae3b2c",
            "2aebe2f14f394a139eeab00d8edfb18d",
            "85d7de4b15424b12bd0ab102acda7ca5",
            "6e738f0a7d564ee1a6e02020fa6a555e",
            "d92a648e68794bd3bbf4b205c7abee14",
            "9d7f3e48bab040b885e1033882ed2200",
            "0670d019aa8b4f1ca01c4b585c002fe3",
            "7a9644d4ff074395929597ea50ed7ab2",
            "6a855f8fa83642f58d1f89ee5fd4256f",
            "69e04e14deab4ed2b9de65a15fc187f3",
            "55c410ff43c94a52a51331d063565f8b",
            "c208ca20a413444392be5e32cd173145",
            "7cbc2a6d5b964b7789bd4de26e82fb28",
            "549de0bbc2844a23944021431e29d303",
            "3bcd6be8cb6f41df93a2d3febbb1ca41",
            "ed39b917b28e4a1f998f0f7db7a44635",
            "fe3562af70374205a89b84025ce807b0",
            "988493454b5c4ee8a68e5f2884e9ab87",
            "cf33af8b91c04417bac3ad98c0d9bb30",
            "4f2b90ffa0ea408e822b21d93e7205b4",
            "02471d0141bb4b6ea5cfa503ae50fbbf",
            "463f0313f4b9477fb8bd81ab4de4530b",
            "a5db68893fd44762bc4f634791294de5",
            "5eb7ada5a6104d2d9060ac2f9e3865a7",
            "9b24c3ba16aa42b3858cea81a9d948e9",
            "b161b1ba99424cd5878640c4e0faec4e",
            "499e5f2c82074bcc9e0540bdafd51de1",
            "e326c513d93c4bf48dcf908edcf4b158",
            "ea617a78ccfa467cb069cfc254fb63bf",
            "a27bf21d45c34b3c9bcc91d5a71006c3",
            "be5b031f0a074060907c81fcb070bc94",
            "88889d127b4e4cc7bc89137617201e2a",
            "1b416166b72d48e7a465a6ac5e2967d8",
            "b544634b2694415b9d02aaea76e2061b",
            "010eb6c6379f4db2b5d60ec3ca28ee24",
            "113e740143814dc69c7798bf69e14a77",
            "0f6a3b09ef43481396ce97c955c4ca9f",
            "9eb7401786124a0e86405ec15de0cf63",
            "367a1807590f4b3a82a527c7842ab3bd",
            "5c4504a0dde449e19a77835e6293e1e8"
          ]
        },
        "id": "grdHe0iWnCf9",
        "outputId": "5eeda948-c77d-4536-a7f8-b8f435a0af93"
      },
      "execution_count": 26,
      "outputs": [
        {
          "output_type": "display_data",
          "data": {
            "application/vnd.jupyter.widget-view+json": {
              "model_id": "a0a66a0e015e4309804aa90bf86655a0",
              "version_minor": 0,
              "version_major": 2
            },
            "text/plain": [
              "Downloading:   0%|          | 0.00/52.0 [00:00<?, ?B/s]"
            ]
          },
          "metadata": {}
        },
        {
          "output_type": "display_data",
          "data": {
            "application/vnd.jupyter.widget-view+json": {
              "model_id": "7a9644d4ff074395929597ea50ed7ab2",
              "version_minor": 0,
              "version_major": 2
            },
            "text/plain": [
              "Downloading:   0%|          | 0.00/579 [00:00<?, ?B/s]"
            ]
          },
          "metadata": {}
        },
        {
          "output_type": "display_data",
          "data": {
            "application/vnd.jupyter.widget-view+json": {
              "model_id": "cf33af8b91c04417bac3ad98c0d9bb30",
              "version_minor": 0,
              "version_major": 2
            },
            "text/plain": [
              "Downloading:   0%|          | 0.00/4.11M [00:00<?, ?B/s]"
            ]
          },
          "metadata": {}
        },
        {
          "output_type": "stream",
          "name": "stderr",
          "text": [
            "Special tokens have been added in the vocabulary, make sure the associated word embeddings are fine-tuned or trained.\n"
          ]
        },
        {
          "output_type": "display_data",
          "data": {
            "application/vnd.jupyter.widget-view+json": {
              "model_id": "a27bf21d45c34b3c9bcc91d5a71006c3",
              "version_minor": 0,
              "version_major": 2
            },
            "text/plain": [
              "Downloading:   0%|          | 0.00/534M [00:00<?, ?B/s]"
            ]
          },
          "metadata": {}
        },
        {
          "output_type": "stream",
          "name": "stderr",
          "text": [
            "Some weights of the model checkpoint at microsoft/mdeberta-v3-base were not used when initializing DebertaV2ForSequenceClassification: ['mask_predictions.LayerNorm.bias', 'lm_predictions.lm_head.dense.weight', 'lm_predictions.lm_head.bias', 'lm_predictions.lm_head.dense.bias', 'mask_predictions.dense.bias', 'mask_predictions.dense.weight', 'mask_predictions.LayerNorm.weight', 'mask_predictions.classifier.weight', 'lm_predictions.lm_head.LayerNorm.weight', 'mask_predictions.classifier.bias', 'lm_predictions.lm_head.LayerNorm.bias']\n",
            "- This IS expected if you are initializing DebertaV2ForSequenceClassification from the checkpoint of a model trained on another task or with another architecture (e.g. initializing a BertForSequenceClassification model from a BertForPreTraining model).\n",
            "- This IS NOT expected if you are initializing DebertaV2ForSequenceClassification from the checkpoint of a model that you expect to be exactly identical (initializing a BertForSequenceClassification model from a BertForSequenceClassification model).\n",
            "Some weights of DebertaV2ForSequenceClassification were not initialized from the model checkpoint at microsoft/mdeberta-v3-base and are newly initialized: ['pooler.dense.weight', 'classifier.weight', 'classifier.bias', 'pooler.dense.bias']\n",
            "You should probably TRAIN this model on a down-stream task to be able to use it for predictions and inference.\n"
          ]
        }
      ]
    },
    {
      "cell_type": "markdown",
      "source": [
        "### **Creating dataloaders**"
      ],
      "metadata": {
        "id": "WuEnulconwgH"
      }
    },
    {
      "cell_type": "code",
      "source": [
        "train, y_train, val, y_val = create_dataset(df, tokenizer)\n",
        "train_dataset = Sentiment_analysis_dataset(train, y_train)\n",
        "val_dataset = Sentiment_analysis_dataset(val, y_val)\n",
        "training_loader = DataLoader(train_dataset, **train_params)\n",
        "val_loader = DataLoader(val_dataset, **test_params)"
      ],
      "metadata": {
        "id": "KctIx6uwnuWc"
      },
      "execution_count": null,
      "outputs": []
    },
    {
      "cell_type": "markdown",
      "source": [
        "### **Train**"
      ],
      "metadata": {
        "id": "67WgUwg0nzJz"
      }
    },
    {
      "cell_type": "code",
      "source": [
        "optimizer = AdamW(model.parameters(), lr = 5e-5)\n",
        "early_stopping = EarlyStopping()\n",
        "model_saver = ModelSaver('deberta')\n"
      ],
      "metadata": {
        "id": "86RZcjXynih_"
      },
      "execution_count": null,
      "outputs": []
    },
    {
      "cell_type": "code",
      "source": [
        "num_epochs = 30\n",
        "model.to(device) \n",
        "for epoch in range(num_epochs):\n",
        "  model.train()\n",
        "  for param in model.base_model.parameters():\n",
        "    param.requires_grad = False\n",
        "\n",
        "  print(epoch+1)\n",
        "  running_loss = 0.0\n",
        "  for batch in training_loader:\n",
        "    \n",
        "    input_ids = batch['input_ids'].to(device, dtype = torch.long)\n",
        "    attention_mask = batch['attention_mask'].to(device, dtype = torch.long)\n",
        "    labels = batch['labels'].to(device, dtype = torch.long)\n",
        "    outputs = model(input_ids, attention_mask)\n",
        "    loss = loss_fn(outputs.logits, labels)\n",
        "    loss.backward()\n",
        "    optimizer.step()\n",
        "    optimizer.zero_grad()\n",
        "    running_loss += loss.item()\n",
        "  \n",
        "  print('evaluating ..')\n",
        "  \n",
        "  model.eval()\n",
        "  eval_loss, f1_score = eval(model, val_loader)\n",
        "  model_saver.save(model, eval_loss)\n",
        "  if early_stopping.step(eval_loss):\n",
        "    print('early stoppong the training')\n",
        "    break\n"
      ],
      "metadata": {
        "colab": {
          "base_uri": "https://localhost:8080/"
        },
        "id": "IG-eM9Zen3l4",
        "outputId": "2d42b0e5-d5a5-4a11-9d83-a7ce40da511d"
      },
      "execution_count": null,
      "outputs": [
        {
          "output_type": "stream",
          "name": "stdout",
          "text": [
            "1\n",
            "evaluating ..\n",
            "2\n",
            "evaluating ..\n",
            "3\n",
            "evaluating ..\n",
            "4\n",
            "evaluating ..\n",
            "5\n",
            "evaluating ..\n",
            "6\n",
            "evaluating ..\n",
            "7\n",
            "evaluating ..\n",
            "8\n",
            "evaluating ..\n",
            "9\n",
            "evaluating ..\n",
            "10\n",
            "evaluating ..\n",
            "11\n",
            "evaluating ..\n",
            "12\n",
            "evaluating ..\n",
            "13\n",
            "evaluating ..\n",
            "14\n",
            "evaluating ..\n",
            "early stoppong the training\n"
          ]
        }
      ]
    },
    {
      "cell_type": "markdown",
      "source": [
        "# **Evaluating models**"
      ],
      "metadata": {
        "id": "itAwqG32SkEO"
      }
    },
    {
      "cell_type": "markdown",
      "source": [
        "During the training, we save the checkpoints of the models with the best performances Next, for each model we reload the best checkpoint and evaluate it on the validation dataset."
      ],
      "metadata": {
        "id": "-qsS9FbMiD5A"
      }
    },
    {
      "cell_type": "code",
      "source": [
        "scores = {}\n",
        "models_outputs = {}\n",
        "models_names = ['xlmr_original','xlmr_tweets_fine_tuned', 'deberta', \n",
        "                'xlmr_tweets_original']\n",
        "\n",
        "model_to_tokenizer = {'xlmr_original': 'xlm-roberta-base',\n",
        "                      'xlmr_tweets_fine_tuned':'cardiffnlp/twitter-xlm-roberta-base-sentiment',\n",
        "                      'deberta': 'microsoft/mdeberta-v3-base'\n",
        "                      }\n"
      ],
      "metadata": {
        "id": "a-QnAAC5e0wE"
      },
      "execution_count": 27,
      "outputs": []
    },
    {
      "cell_type": "code",
      "source": [
        "softmax = torch.nn.Softmax(dim=1)\n",
        "for model_name in models_names:\n",
        "  if model_name == 'xlmr_tweets_original':\n",
        "    MODEL = f\"cardiffnlp/twitter-xlm-roberta-base-sentiment\"\n",
        "    tokenizer = AutoTokenizer.from_pretrained(MODEL)\n",
        "    model = AutoModelForSequenceClassification.from_pretrained(MODEL,\n",
        "                                                               num_labels=3)\n",
        "    \n",
        "  else:\n",
        "    model = AutoModelForSequenceClassification\\\n",
        "            .from_pretrained(model_to_tokenizer[model_name],\n",
        "                             num_labels=3)\n",
        "            \n",
        "    model.load_state_dict(torch.load('best_model_{}.pth'.format(model_name),\n",
        "                                     map_location=torch.device(device)))\n",
        "    tokenizer = AutoTokenizer.from_pretrained(model_to_tokenizer[model_name])\n",
        "  \n",
        "  \n",
        "  model.to(device)\n",
        "  model.eval()\n",
        "\n",
        "  train, y_train, val, y_val = create_dataset(df, tokenizer)\n",
        "  val_dataset = Sentiment_analysis_dataset(val, y_val)\n",
        "  val_loader = DataLoader(val_dataset, **test_params)\n",
        "\n",
        "  final_outputs=[]\n",
        "  for batch in val_loader:\n",
        "    input_ids = batch['input_ids'].to(device, dtype = torch.long)\n",
        "    attention_mask = batch['attention_mask'].to(device, dtype = torch.long)\n",
        "    labels = batch['labels'].to(device, dtype = torch.long)\n",
        "    outputs = model(input_ids, attention_mask)\n",
        "    final_outputs.extend(softmax(outputs.logits).cpu().detach().numpy().tolist())\n",
        "  y_pred = np.argmax(final_outputs, axis=1)\n",
        "  f1_score = metrics.f1_score(y_val, y_pred, average='micro')\n",
        "  precision = metrics.precision_score(y_val, y_pred, average = None).tolist()\n",
        "  recall = metrics.recall_score(y_val, y_pred, average = None).tolist()\n",
        "  scores[model_name] = {\"f1_score\": f1_score,\n",
        "                        \"precision\": precision,\n",
        "                        \"recall\": recall\n",
        "                    }\n",
        "  models_outputs[model_name] = final_outputs\n",
        "  del model"
      ],
      "metadata": {
        "id": "a51L6NyTtIcr"
      },
      "execution_count": null,
      "outputs": []
    },
    {
      "cell_type": "markdown",
      "source": [
        "## Analysing results"
      ],
      "metadata": {
        "id": "ypW12zoUK7QZ"
      }
    },
    {
      "cell_type": "code",
      "source": [
        "results = pd.DataFrame(scores).T\n",
        "results['precision_negatives'] = results.precision.apply(lambda x: round(float(x[0]),2))\n",
        "results['precision_neutral'] = results.precision.apply(lambda x: round(float(x[1]),2))\n",
        "results['precision_positives'] = results.precision.apply(lambda x: round(float(x[2]),2))\n",
        "results['recall_negatives'] = results.recall.apply(lambda x: round(float(x[0]),2))\n",
        "results['recall_neutral'] = results.recall.apply(lambda x: round(float(x[1]),2))\n",
        "results['recall_positives'] = results.recall.apply(lambda x: round(float(x[2]),2))\n",
        "results.drop(['precision', 'recall'], axis=1)\n"
      ],
      "metadata": {
        "colab": {
          "base_uri": "https://localhost:8080/",
          "height": 195
        },
        "id": "ZW9tONz5Z-TV",
        "outputId": "1fc415c8-607f-4375-ace3-546ba7b1a3fb"
      },
      "execution_count": 31,
      "outputs": [
        {
          "output_type": "execute_result",
          "data": {
            "text/html": [
              "<div>\n",
              "<style scoped>\n",
              "    .dataframe tbody tr th:only-of-type {\n",
              "        vertical-align: middle;\n",
              "    }\n",
              "\n",
              "    .dataframe tbody tr th {\n",
              "        vertical-align: top;\n",
              "    }\n",
              "\n",
              "    .dataframe thead th {\n",
              "        text-align: right;\n",
              "    }\n",
              "</style>\n",
              "<table border=\"1\" class=\"dataframe\">\n",
              "  <thead>\n",
              "    <tr style=\"text-align: right;\">\n",
              "      <th></th>\n",
              "      <th>accuracy</th>\n",
              "      <th>f1_score</th>\n",
              "      <th>precision_negatives</th>\n",
              "      <th>precision_neutral</th>\n",
              "      <th>precision_positives</th>\n",
              "      <th>recall_negatives</th>\n",
              "      <th>recall_neutral</th>\n",
              "      <th>recall_positives</th>\n",
              "    </tr>\n",
              "  </thead>\n",
              "  <tbody>\n",
              "    <tr>\n",
              "      <th>xlmr_original</th>\n",
              "      <td>0.3114</td>\n",
              "      <td>0.3114</td>\n",
              "      <td>0.32</td>\n",
              "      <td>0.05</td>\n",
              "      <td>0.28</td>\n",
              "      <td>0.80</td>\n",
              "      <td>0.00</td>\n",
              "      <td>0.15</td>\n",
              "    </tr>\n",
              "    <tr>\n",
              "      <th>deberta</th>\n",
              "      <td>0.6532</td>\n",
              "      <td>0.6532</td>\n",
              "      <td>0.70</td>\n",
              "      <td>0.87</td>\n",
              "      <td>0.51</td>\n",
              "      <td>0.20</td>\n",
              "      <td>0.87</td>\n",
              "      <td>0.87</td>\n",
              "    </tr>\n",
              "    <tr>\n",
              "      <th>xlmr_tweets_original</th>\n",
              "      <td>0.67</td>\n",
              "      <td>0.67</td>\n",
              "      <td>0.64</td>\n",
              "      <td>0.63</td>\n",
              "      <td>0.75</td>\n",
              "      <td>0.75</td>\n",
              "      <td>0.56</td>\n",
              "      <td>0.71</td>\n",
              "    </tr>\n",
              "    <tr>\n",
              "      <th>xlmr_tweets_fine_tuned</th>\n",
              "      <td>0.855</td>\n",
              "      <td>0.855</td>\n",
              "      <td>0.82</td>\n",
              "      <td>0.93</td>\n",
              "      <td>0.82</td>\n",
              "      <td>0.85</td>\n",
              "      <td>0.89</td>\n",
              "      <td>0.82</td>\n",
              "    </tr>\n",
              "  </tbody>\n",
              "</table>\n",
              "</div>"
            ],
            "text/plain": [
              "                       accuracy f1_score  ...  recall_neutral  recall_positives\n",
              "xlmr_original            0.3114   0.3114  ...            0.00              0.15\n",
              "deberta                  0.6532   0.6532  ...            0.87              0.87\n",
              "xlmr_tweets_original       0.67     0.67  ...            0.56              0.71\n",
              "xlmr_tweets_fine_tuned    0.855    0.855  ...            0.89              0.82\n",
              "\n",
              "[4 rows x 8 columns]"
            ]
          },
          "metadata": {},
          "execution_count": 31
        }
      ]
    },
    {
      "cell_type": "markdown",
      "source": [
        "\n",
        "*   We can see that no matter what metric we choose, the model obtained by \n",
        "further fine-tuning the xlm-r tweets is the best one. This doesn't come as a surprise since this language model was pre-trained on **domain specific** data.\n",
        "\n",
        "* We can see that even if xlm-r was pre-trained and fine-tuned on social media data (the case of xlm_tweets_original) further fine-tuning to obtain xlmr_tweets_fine_tuned **reduce by half the error.**\n",
        "\n",
        "\n",
        "\n",
        "*   Fine-tuning xlm-r from scratch give surprisingly poor results compared to deberta even if those two models have been pre-trained and finetuned on exactly the same data but using different techniques. \n",
        "\n",
        "------>  I look deeper into the results of  xlmr_tweets_fine_tuned in the notebook evaluation.\n",
        "\n"
      ],
      "metadata": {
        "id": "P-aAeB8ubOtL"
      }
    },
    {
      "cell_type": "markdown",
      "source": [
        "**Training the final model**"
      ],
      "metadata": {
        "id": "l1C5skTl1DjH"
      }
    },
    {
      "cell_type": "markdown",
      "source": [
        "Once the evaluation is done, we fine-tune the model but this time using the whole dataset. This time, we do not use early stopping since there will be no validation data. However, we train the model for 9 epochs whcih is the optimal number of epochs obtained by the early stopping method applied to the training with only the train_dataset. \n"
      ],
      "metadata": {
        "id": "3mBeYNu91KF3"
      }
    },
    {
      "cell_type": "code",
      "source": [
        "MODEL = f\"cardiffnlp/twitter-xlm-roberta-base-sentiment\"\n",
        "tokenizer = AutoTokenizer.from_pretrained(MODEL)\n",
        "model = AutoModelForSequenceClassification.from_pretrained(MODEL)\n",
        "model.to(device)\n",
        "model.train()\n",
        "train_encodings = tokenizer(list(df['content']),\n",
        "                            truncation=True,\n",
        "                            padding=True,\n",
        "                            max_length=512)\n",
        "\n",
        "train, y_train, val, y_val = create_dataset(df, tokenizer)\n",
        "train_dataset = Sentiment_analysis_dataset(train_encodings,\n",
        "                                           list(df['sentiment']))\n",
        "training_loader = DataLoader(train_dataset, **train_params)\n",
        "optimizer = AdamW(model.parameters(), lr = 5e-5)\n"
      ],
      "metadata": {
        "id": "nxK2PV1_1C82"
      },
      "execution_count": null,
      "outputs": []
    },
    {
      "cell_type": "code",
      "source": [
        "\n",
        "num_epochs = 9\n",
        "model.to(device) \n",
        "for epoch in range(num_epochs):\n",
        "  model.train()\n",
        "  for param in model.base_model.parameters():\n",
        "    param.requires_grad = False\n",
        "\n",
        "  print(epoch+1)\n",
        "  running_loss = 0.0\n",
        "  for batch in training_loader:\n",
        "    \n",
        "    input_ids = batch['input_ids'].to(device, dtype = torch.long)\n",
        "    attention_mask = batch['attention_mask'].to(device, dtype = torch.long)\n",
        "    labels = batch['labels'].to(device, dtype = torch.long)\n",
        "    outputs = model(input_ids, attention_mask)\n",
        "    loss = loss_fn(outputs.logits, labels)\n",
        "    loss.backward()\n",
        "    optimizer.step()\n",
        "    optimizer.zero_grad()\n",
        "    running_loss += loss.item()\n",
        "\n",
        "\n",
        "torch.save(model.state_dict(), 'checkpoint.pth')"
      ],
      "metadata": {
        "id": "JP-OYxSZ17YQ"
      },
      "execution_count": null,
      "outputs": []
    }
  ],
  "metadata": {
    "accelerator": "GPU",
    "colab": {
      "collapsed_sections": [
        "iNqtxGG-Ok0M",
        "bmrvChX-m8pf"
      ],
      "machine_shape": "hm",
      "name": "Sentiment_analysis.ipynb",
      "provenance": []
    },
    "kernelspec": {
      "display_name": "Python 3",
      "name": "python3"
    },
    "language_info": {
      "name": "python"
    },
    "widgets": {
      "application/vnd.jupyter.widget-state+json": {
        "f6d829eb3ae34fbeadd26d7b4d44d378": {
          "model_module": "@jupyter-widgets/controls",
          "model_name": "HBoxModel",
          "model_module_version": "1.5.0",
          "state": {
            "_view_name": "HBoxView",
            "_dom_classes": [],
            "_model_name": "HBoxModel",
            "_view_module": "@jupyter-widgets/controls",
            "_model_module_version": "1.5.0",
            "_view_count": null,
            "_view_module_version": "1.5.0",
            "box_style": "",
            "layout": "IPY_MODEL_e5f5732a943843328eab25e10c386379",
            "_model_module": "@jupyter-widgets/controls",
            "children": [
              "IPY_MODEL_0be67072fd324bdb987e6d99de0a02e2",
              "IPY_MODEL_9e92ac18e26c425bb895f2a465fb2296",
              "IPY_MODEL_513bac7f0cb94e31b9dc2f2f01cc7fe0"
            ]
          }
        },
        "e5f5732a943843328eab25e10c386379": {
          "model_module": "@jupyter-widgets/base",
          "model_name": "LayoutModel",
          "model_module_version": "1.2.0",
          "state": {
            "_view_name": "LayoutView",
            "grid_template_rows": null,
            "right": null,
            "justify_content": null,
            "_view_module": "@jupyter-widgets/base",
            "overflow": null,
            "_model_module_version": "1.2.0",
            "_view_count": null,
            "flex_flow": null,
            "width": null,
            "min_width": null,
            "border": null,
            "align_items": null,
            "bottom": null,
            "_model_module": "@jupyter-widgets/base",
            "top": null,
            "grid_column": null,
            "overflow_y": null,
            "overflow_x": null,
            "grid_auto_flow": null,
            "grid_area": null,
            "grid_template_columns": null,
            "flex": null,
            "_model_name": "LayoutModel",
            "justify_items": null,
            "grid_row": null,
            "max_height": null,
            "align_content": null,
            "visibility": null,
            "align_self": null,
            "height": null,
            "min_height": null,
            "padding": null,
            "grid_auto_rows": null,
            "grid_gap": null,
            "max_width": null,
            "order": null,
            "_view_module_version": "1.2.0",
            "grid_template_areas": null,
            "object_position": null,
            "object_fit": null,
            "grid_auto_columns": null,
            "margin": null,
            "display": null,
            "left": null
          }
        },
        "0be67072fd324bdb987e6d99de0a02e2": {
          "model_module": "@jupyter-widgets/controls",
          "model_name": "HTMLModel",
          "model_module_version": "1.5.0",
          "state": {
            "_view_name": "HTMLView",
            "style": "IPY_MODEL_6a0418ca5a43453489cf65bda906eed0",
            "_dom_classes": [],
            "description": "",
            "_model_name": "HTMLModel",
            "placeholder": "​",
            "_view_module": "@jupyter-widgets/controls",
            "_model_module_version": "1.5.0",
            "value": "Downloading: 100%",
            "_view_count": null,
            "_view_module_version": "1.5.0",
            "description_tooltip": null,
            "_model_module": "@jupyter-widgets/controls",
            "layout": "IPY_MODEL_06d500da92594cbcb44b348c66f6d261"
          }
        },
        "9e92ac18e26c425bb895f2a465fb2296": {
          "model_module": "@jupyter-widgets/controls",
          "model_name": "FloatProgressModel",
          "model_module_version": "1.5.0",
          "state": {
            "_view_name": "ProgressView",
            "style": "IPY_MODEL_d43b51eefdef4c0c957e1619d23627c0",
            "_dom_classes": [],
            "description": "",
            "_model_name": "FloatProgressModel",
            "bar_style": "success",
            "max": 512,
            "_view_module": "@jupyter-widgets/controls",
            "_model_module_version": "1.5.0",
            "value": 512,
            "_view_count": null,
            "_view_module_version": "1.5.0",
            "orientation": "horizontal",
            "min": 0,
            "description_tooltip": null,
            "_model_module": "@jupyter-widgets/controls",
            "layout": "IPY_MODEL_ae9e4bade6d442c0b94af9302970805f"
          }
        },
        "513bac7f0cb94e31b9dc2f2f01cc7fe0": {
          "model_module": "@jupyter-widgets/controls",
          "model_name": "HTMLModel",
          "model_module_version": "1.5.0",
          "state": {
            "_view_name": "HTMLView",
            "style": "IPY_MODEL_b245e4f7b2c341229d5d82e720c32e2c",
            "_dom_classes": [],
            "description": "",
            "_model_name": "HTMLModel",
            "placeholder": "​",
            "_view_module": "@jupyter-widgets/controls",
            "_model_module_version": "1.5.0",
            "value": " 512/512 [00:00&lt;00:00, 13.9kB/s]",
            "_view_count": null,
            "_view_module_version": "1.5.0",
            "description_tooltip": null,
            "_model_module": "@jupyter-widgets/controls",
            "layout": "IPY_MODEL_70997ea88d8443e2800e421f670509af"
          }
        },
        "6a0418ca5a43453489cf65bda906eed0": {
          "model_module": "@jupyter-widgets/controls",
          "model_name": "DescriptionStyleModel",
          "model_module_version": "1.5.0",
          "state": {
            "_view_name": "StyleView",
            "_model_name": "DescriptionStyleModel",
            "description_width": "",
            "_view_module": "@jupyter-widgets/base",
            "_model_module_version": "1.5.0",
            "_view_count": null,
            "_view_module_version": "1.2.0",
            "_model_module": "@jupyter-widgets/controls"
          }
        },
        "06d500da92594cbcb44b348c66f6d261": {
          "model_module": "@jupyter-widgets/base",
          "model_name": "LayoutModel",
          "model_module_version": "1.2.0",
          "state": {
            "_view_name": "LayoutView",
            "grid_template_rows": null,
            "right": null,
            "justify_content": null,
            "_view_module": "@jupyter-widgets/base",
            "overflow": null,
            "_model_module_version": "1.2.0",
            "_view_count": null,
            "flex_flow": null,
            "width": null,
            "min_width": null,
            "border": null,
            "align_items": null,
            "bottom": null,
            "_model_module": "@jupyter-widgets/base",
            "top": null,
            "grid_column": null,
            "overflow_y": null,
            "overflow_x": null,
            "grid_auto_flow": null,
            "grid_area": null,
            "grid_template_columns": null,
            "flex": null,
            "_model_name": "LayoutModel",
            "justify_items": null,
            "grid_row": null,
            "max_height": null,
            "align_content": null,
            "visibility": null,
            "align_self": null,
            "height": null,
            "min_height": null,
            "padding": null,
            "grid_auto_rows": null,
            "grid_gap": null,
            "max_width": null,
            "order": null,
            "_view_module_version": "1.2.0",
            "grid_template_areas": null,
            "object_position": null,
            "object_fit": null,
            "grid_auto_columns": null,
            "margin": null,
            "display": null,
            "left": null
          }
        },
        "d43b51eefdef4c0c957e1619d23627c0": {
          "model_module": "@jupyter-widgets/controls",
          "model_name": "ProgressStyleModel",
          "model_module_version": "1.5.0",
          "state": {
            "_view_name": "StyleView",
            "_model_name": "ProgressStyleModel",
            "description_width": "",
            "_view_module": "@jupyter-widgets/base",
            "_model_module_version": "1.5.0",
            "_view_count": null,
            "_view_module_version": "1.2.0",
            "bar_color": null,
            "_model_module": "@jupyter-widgets/controls"
          }
        },
        "ae9e4bade6d442c0b94af9302970805f": {
          "model_module": "@jupyter-widgets/base",
          "model_name": "LayoutModel",
          "model_module_version": "1.2.0",
          "state": {
            "_view_name": "LayoutView",
            "grid_template_rows": null,
            "right": null,
            "justify_content": null,
            "_view_module": "@jupyter-widgets/base",
            "overflow": null,
            "_model_module_version": "1.2.0",
            "_view_count": null,
            "flex_flow": null,
            "width": null,
            "min_width": null,
            "border": null,
            "align_items": null,
            "bottom": null,
            "_model_module": "@jupyter-widgets/base",
            "top": null,
            "grid_column": null,
            "overflow_y": null,
            "overflow_x": null,
            "grid_auto_flow": null,
            "grid_area": null,
            "grid_template_columns": null,
            "flex": null,
            "_model_name": "LayoutModel",
            "justify_items": null,
            "grid_row": null,
            "max_height": null,
            "align_content": null,
            "visibility": null,
            "align_self": null,
            "height": null,
            "min_height": null,
            "padding": null,
            "grid_auto_rows": null,
            "grid_gap": null,
            "max_width": null,
            "order": null,
            "_view_module_version": "1.2.0",
            "grid_template_areas": null,
            "object_position": null,
            "object_fit": null,
            "grid_auto_columns": null,
            "margin": null,
            "display": null,
            "left": null
          }
        },
        "b245e4f7b2c341229d5d82e720c32e2c": {
          "model_module": "@jupyter-widgets/controls",
          "model_name": "DescriptionStyleModel",
          "model_module_version": "1.5.0",
          "state": {
            "_view_name": "StyleView",
            "_model_name": "DescriptionStyleModel",
            "description_width": "",
            "_view_module": "@jupyter-widgets/base",
            "_model_module_version": "1.5.0",
            "_view_count": null,
            "_view_module_version": "1.2.0",
            "_model_module": "@jupyter-widgets/controls"
          }
        },
        "70997ea88d8443e2800e421f670509af": {
          "model_module": "@jupyter-widgets/base",
          "model_name": "LayoutModel",
          "model_module_version": "1.2.0",
          "state": {
            "_view_name": "LayoutView",
            "grid_template_rows": null,
            "right": null,
            "justify_content": null,
            "_view_module": "@jupyter-widgets/base",
            "overflow": null,
            "_model_module_version": "1.2.0",
            "_view_count": null,
            "flex_flow": null,
            "width": null,
            "min_width": null,
            "border": null,
            "align_items": null,
            "bottom": null,
            "_model_module": "@jupyter-widgets/base",
            "top": null,
            "grid_column": null,
            "overflow_y": null,
            "overflow_x": null,
            "grid_auto_flow": null,
            "grid_area": null,
            "grid_template_columns": null,
            "flex": null,
            "_model_name": "LayoutModel",
            "justify_items": null,
            "grid_row": null,
            "max_height": null,
            "align_content": null,
            "visibility": null,
            "align_self": null,
            "height": null,
            "min_height": null,
            "padding": null,
            "grid_auto_rows": null,
            "grid_gap": null,
            "max_width": null,
            "order": null,
            "_view_module_version": "1.2.0",
            "grid_template_areas": null,
            "object_position": null,
            "object_fit": null,
            "grid_auto_columns": null,
            "margin": null,
            "display": null,
            "left": null
          }
        },
        "fda7d07c96a74ba49b77e85075e39c9d": {
          "model_module": "@jupyter-widgets/controls",
          "model_name": "HBoxModel",
          "model_module_version": "1.5.0",
          "state": {
            "_view_name": "HBoxView",
            "_dom_classes": [],
            "_model_name": "HBoxModel",
            "_view_module": "@jupyter-widgets/controls",
            "_model_module_version": "1.5.0",
            "_view_count": null,
            "_view_module_version": "1.5.0",
            "box_style": "",
            "layout": "IPY_MODEL_d929b462e9e94dd788b4eee3442f5ab2",
            "_model_module": "@jupyter-widgets/controls",
            "children": [
              "IPY_MODEL_8ceaf144be204eca9ada15729d66a024",
              "IPY_MODEL_d54bdde735ed4faa97aa40689dac04ba",
              "IPY_MODEL_01954923d7b741778cf63ac1b15a1c1f"
            ]
          }
        },
        "d929b462e9e94dd788b4eee3442f5ab2": {
          "model_module": "@jupyter-widgets/base",
          "model_name": "LayoutModel",
          "model_module_version": "1.2.0",
          "state": {
            "_view_name": "LayoutView",
            "grid_template_rows": null,
            "right": null,
            "justify_content": null,
            "_view_module": "@jupyter-widgets/base",
            "overflow": null,
            "_model_module_version": "1.2.0",
            "_view_count": null,
            "flex_flow": null,
            "width": null,
            "min_width": null,
            "border": null,
            "align_items": null,
            "bottom": null,
            "_model_module": "@jupyter-widgets/base",
            "top": null,
            "grid_column": null,
            "overflow_y": null,
            "overflow_x": null,
            "grid_auto_flow": null,
            "grid_area": null,
            "grid_template_columns": null,
            "flex": null,
            "_model_name": "LayoutModel",
            "justify_items": null,
            "grid_row": null,
            "max_height": null,
            "align_content": null,
            "visibility": null,
            "align_self": null,
            "height": null,
            "min_height": null,
            "padding": null,
            "grid_auto_rows": null,
            "grid_gap": null,
            "max_width": null,
            "order": null,
            "_view_module_version": "1.2.0",
            "grid_template_areas": null,
            "object_position": null,
            "object_fit": null,
            "grid_auto_columns": null,
            "margin": null,
            "display": null,
            "left": null
          }
        },
        "8ceaf144be204eca9ada15729d66a024": {
          "model_module": "@jupyter-widgets/controls",
          "model_name": "HTMLModel",
          "model_module_version": "1.5.0",
          "state": {
            "_view_name": "HTMLView",
            "style": "IPY_MODEL_14c6788563224a1faa37adaf685fb064",
            "_dom_classes": [],
            "description": "",
            "_model_name": "HTMLModel",
            "placeholder": "​",
            "_view_module": "@jupyter-widgets/controls",
            "_model_module_version": "1.5.0",
            "value": "Downloading: 100%",
            "_view_count": null,
            "_view_module_version": "1.5.0",
            "description_tooltip": null,
            "_model_module": "@jupyter-widgets/controls",
            "layout": "IPY_MODEL_01db869d38b54ecf84aeda19bd41c77b"
          }
        },
        "d54bdde735ed4faa97aa40689dac04ba": {
          "model_module": "@jupyter-widgets/controls",
          "model_name": "FloatProgressModel",
          "model_module_version": "1.5.0",
          "state": {
            "_view_name": "ProgressView",
            "style": "IPY_MODEL_2c7edf2228c74934b27723f375dc8759",
            "_dom_classes": [],
            "description": "",
            "_model_name": "FloatProgressModel",
            "bar_style": "success",
            "max": 5069051,
            "_view_module": "@jupyter-widgets/controls",
            "_model_module_version": "1.5.0",
            "value": 5069051,
            "_view_count": null,
            "_view_module_version": "1.5.0",
            "orientation": "horizontal",
            "min": 0,
            "description_tooltip": null,
            "_model_module": "@jupyter-widgets/controls",
            "layout": "IPY_MODEL_57b58186f06e4cabbd0701110220c7f0"
          }
        },
        "01954923d7b741778cf63ac1b15a1c1f": {
          "model_module": "@jupyter-widgets/controls",
          "model_name": "HTMLModel",
          "model_module_version": "1.5.0",
          "state": {
            "_view_name": "HTMLView",
            "style": "IPY_MODEL_f8b340da3a504cca8826a0c4c71ed5b6",
            "_dom_classes": [],
            "description": "",
            "_model_name": "HTMLModel",
            "placeholder": "​",
            "_view_module": "@jupyter-widgets/controls",
            "_model_module_version": "1.5.0",
            "value": " 4.83M/4.83M [00:00&lt;00:00, 10.7MB/s]",
            "_view_count": null,
            "_view_module_version": "1.5.0",
            "description_tooltip": null,
            "_model_module": "@jupyter-widgets/controls",
            "layout": "IPY_MODEL_a669d163b84d481aa982c2c692bd3a3b"
          }
        },
        "14c6788563224a1faa37adaf685fb064": {
          "model_module": "@jupyter-widgets/controls",
          "model_name": "DescriptionStyleModel",
          "model_module_version": "1.5.0",
          "state": {
            "_view_name": "StyleView",
            "_model_name": "DescriptionStyleModel",
            "description_width": "",
            "_view_module": "@jupyter-widgets/base",
            "_model_module_version": "1.5.0",
            "_view_count": null,
            "_view_module_version": "1.2.0",
            "_model_module": "@jupyter-widgets/controls"
          }
        },
        "01db869d38b54ecf84aeda19bd41c77b": {
          "model_module": "@jupyter-widgets/base",
          "model_name": "LayoutModel",
          "model_module_version": "1.2.0",
          "state": {
            "_view_name": "LayoutView",
            "grid_template_rows": null,
            "right": null,
            "justify_content": null,
            "_view_module": "@jupyter-widgets/base",
            "overflow": null,
            "_model_module_version": "1.2.0",
            "_view_count": null,
            "flex_flow": null,
            "width": null,
            "min_width": null,
            "border": null,
            "align_items": null,
            "bottom": null,
            "_model_module": "@jupyter-widgets/base",
            "top": null,
            "grid_column": null,
            "overflow_y": null,
            "overflow_x": null,
            "grid_auto_flow": null,
            "grid_area": null,
            "grid_template_columns": null,
            "flex": null,
            "_model_name": "LayoutModel",
            "justify_items": null,
            "grid_row": null,
            "max_height": null,
            "align_content": null,
            "visibility": null,
            "align_self": null,
            "height": null,
            "min_height": null,
            "padding": null,
            "grid_auto_rows": null,
            "grid_gap": null,
            "max_width": null,
            "order": null,
            "_view_module_version": "1.2.0",
            "grid_template_areas": null,
            "object_position": null,
            "object_fit": null,
            "grid_auto_columns": null,
            "margin": null,
            "display": null,
            "left": null
          }
        },
        "2c7edf2228c74934b27723f375dc8759": {
          "model_module": "@jupyter-widgets/controls",
          "model_name": "ProgressStyleModel",
          "model_module_version": "1.5.0",
          "state": {
            "_view_name": "StyleView",
            "_model_name": "ProgressStyleModel",
            "description_width": "",
            "_view_module": "@jupyter-widgets/base",
            "_model_module_version": "1.5.0",
            "_view_count": null,
            "_view_module_version": "1.2.0",
            "bar_color": null,
            "_model_module": "@jupyter-widgets/controls"
          }
        },
        "57b58186f06e4cabbd0701110220c7f0": {
          "model_module": "@jupyter-widgets/base",
          "model_name": "LayoutModel",
          "model_module_version": "1.2.0",
          "state": {
            "_view_name": "LayoutView",
            "grid_template_rows": null,
            "right": null,
            "justify_content": null,
            "_view_module": "@jupyter-widgets/base",
            "overflow": null,
            "_model_module_version": "1.2.0",
            "_view_count": null,
            "flex_flow": null,
            "width": null,
            "min_width": null,
            "border": null,
            "align_items": null,
            "bottom": null,
            "_model_module": "@jupyter-widgets/base",
            "top": null,
            "grid_column": null,
            "overflow_y": null,
            "overflow_x": null,
            "grid_auto_flow": null,
            "grid_area": null,
            "grid_template_columns": null,
            "flex": null,
            "_model_name": "LayoutModel",
            "justify_items": null,
            "grid_row": null,
            "max_height": null,
            "align_content": null,
            "visibility": null,
            "align_self": null,
            "height": null,
            "min_height": null,
            "padding": null,
            "grid_auto_rows": null,
            "grid_gap": null,
            "max_width": null,
            "order": null,
            "_view_module_version": "1.2.0",
            "grid_template_areas": null,
            "object_position": null,
            "object_fit": null,
            "grid_auto_columns": null,
            "margin": null,
            "display": null,
            "left": null
          }
        },
        "f8b340da3a504cca8826a0c4c71ed5b6": {
          "model_module": "@jupyter-widgets/controls",
          "model_name": "DescriptionStyleModel",
          "model_module_version": "1.5.0",
          "state": {
            "_view_name": "StyleView",
            "_model_name": "DescriptionStyleModel",
            "description_width": "",
            "_view_module": "@jupyter-widgets/base",
            "_model_module_version": "1.5.0",
            "_view_count": null,
            "_view_module_version": "1.2.0",
            "_model_module": "@jupyter-widgets/controls"
          }
        },
        "a669d163b84d481aa982c2c692bd3a3b": {
          "model_module": "@jupyter-widgets/base",
          "model_name": "LayoutModel",
          "model_module_version": "1.2.0",
          "state": {
            "_view_name": "LayoutView",
            "grid_template_rows": null,
            "right": null,
            "justify_content": null,
            "_view_module": "@jupyter-widgets/base",
            "overflow": null,
            "_model_module_version": "1.2.0",
            "_view_count": null,
            "flex_flow": null,
            "width": null,
            "min_width": null,
            "border": null,
            "align_items": null,
            "bottom": null,
            "_model_module": "@jupyter-widgets/base",
            "top": null,
            "grid_column": null,
            "overflow_y": null,
            "overflow_x": null,
            "grid_auto_flow": null,
            "grid_area": null,
            "grid_template_columns": null,
            "flex": null,
            "_model_name": "LayoutModel",
            "justify_items": null,
            "grid_row": null,
            "max_height": null,
            "align_content": null,
            "visibility": null,
            "align_self": null,
            "height": null,
            "min_height": null,
            "padding": null,
            "grid_auto_rows": null,
            "grid_gap": null,
            "max_width": null,
            "order": null,
            "_view_module_version": "1.2.0",
            "grid_template_areas": null,
            "object_position": null,
            "object_fit": null,
            "grid_auto_columns": null,
            "margin": null,
            "display": null,
            "left": null
          }
        },
        "aa52a027751946c3b796d8eb374d9ba4": {
          "model_module": "@jupyter-widgets/controls",
          "model_name": "HBoxModel",
          "model_module_version": "1.5.0",
          "state": {
            "_view_name": "HBoxView",
            "_dom_classes": [],
            "_model_name": "HBoxModel",
            "_view_module": "@jupyter-widgets/controls",
            "_model_module_version": "1.5.0",
            "_view_count": null,
            "_view_module_version": "1.5.0",
            "box_style": "",
            "layout": "IPY_MODEL_f4a505e47c53460a8a89077a0814aaf2",
            "_model_module": "@jupyter-widgets/controls",
            "children": [
              "IPY_MODEL_bd08046163564ccdba91ece6494a22de",
              "IPY_MODEL_f474c8b4beb245a380abe358b2bbcc07",
              "IPY_MODEL_f214d3f0a63f491888ecacd8a1272c34"
            ]
          }
        },
        "f4a505e47c53460a8a89077a0814aaf2": {
          "model_module": "@jupyter-widgets/base",
          "model_name": "LayoutModel",
          "model_module_version": "1.2.0",
          "state": {
            "_view_name": "LayoutView",
            "grid_template_rows": null,
            "right": null,
            "justify_content": null,
            "_view_module": "@jupyter-widgets/base",
            "overflow": null,
            "_model_module_version": "1.2.0",
            "_view_count": null,
            "flex_flow": null,
            "width": null,
            "min_width": null,
            "border": null,
            "align_items": null,
            "bottom": null,
            "_model_module": "@jupyter-widgets/base",
            "top": null,
            "grid_column": null,
            "overflow_y": null,
            "overflow_x": null,
            "grid_auto_flow": null,
            "grid_area": null,
            "grid_template_columns": null,
            "flex": null,
            "_model_name": "LayoutModel",
            "justify_items": null,
            "grid_row": null,
            "max_height": null,
            "align_content": null,
            "visibility": null,
            "align_self": null,
            "height": null,
            "min_height": null,
            "padding": null,
            "grid_auto_rows": null,
            "grid_gap": null,
            "max_width": null,
            "order": null,
            "_view_module_version": "1.2.0",
            "grid_template_areas": null,
            "object_position": null,
            "object_fit": null,
            "grid_auto_columns": null,
            "margin": null,
            "display": null,
            "left": null
          }
        },
        "bd08046163564ccdba91ece6494a22de": {
          "model_module": "@jupyter-widgets/controls",
          "model_name": "HTMLModel",
          "model_module_version": "1.5.0",
          "state": {
            "_view_name": "HTMLView",
            "style": "IPY_MODEL_e604e3b391a447359e6473413f58cf06",
            "_dom_classes": [],
            "description": "",
            "_model_name": "HTMLModel",
            "placeholder": "​",
            "_view_module": "@jupyter-widgets/controls",
            "_model_module_version": "1.5.0",
            "value": "Downloading: 100%",
            "_view_count": null,
            "_view_module_version": "1.5.0",
            "description_tooltip": null,
            "_model_module": "@jupyter-widgets/controls",
            "layout": "IPY_MODEL_2ba266b078f049b3be27da897f9447ed"
          }
        },
        "f474c8b4beb245a380abe358b2bbcc07": {
          "model_module": "@jupyter-widgets/controls",
          "model_name": "FloatProgressModel",
          "model_module_version": "1.5.0",
          "state": {
            "_view_name": "ProgressView",
            "style": "IPY_MODEL_a031181e56024a69b5f3967b0923e509",
            "_dom_classes": [],
            "description": "",
            "_model_name": "FloatProgressModel",
            "bar_style": "success",
            "max": 9096718,
            "_view_module": "@jupyter-widgets/controls",
            "_model_module_version": "1.5.0",
            "value": 9096718,
            "_view_count": null,
            "_view_module_version": "1.5.0",
            "orientation": "horizontal",
            "min": 0,
            "description_tooltip": null,
            "_model_module": "@jupyter-widgets/controls",
            "layout": "IPY_MODEL_f1fb9809ca484c438136ba9bc0d320f2"
          }
        },
        "f214d3f0a63f491888ecacd8a1272c34": {
          "model_module": "@jupyter-widgets/controls",
          "model_name": "HTMLModel",
          "model_module_version": "1.5.0",
          "state": {
            "_view_name": "HTMLView",
            "style": "IPY_MODEL_9eb3595af56b456591c7a0314092e9a6",
            "_dom_classes": [],
            "description": "",
            "_model_name": "HTMLModel",
            "placeholder": "​",
            "_view_module": "@jupyter-widgets/controls",
            "_model_module_version": "1.5.0",
            "value": " 8.68M/8.68M [00:00&lt;00:00, 17.0MB/s]",
            "_view_count": null,
            "_view_module_version": "1.5.0",
            "description_tooltip": null,
            "_model_module": "@jupyter-widgets/controls",
            "layout": "IPY_MODEL_9f0501ed07fc480289c41b0e71f934e8"
          }
        },
        "e604e3b391a447359e6473413f58cf06": {
          "model_module": "@jupyter-widgets/controls",
          "model_name": "DescriptionStyleModel",
          "model_module_version": "1.5.0",
          "state": {
            "_view_name": "StyleView",
            "_model_name": "DescriptionStyleModel",
            "description_width": "",
            "_view_module": "@jupyter-widgets/base",
            "_model_module_version": "1.5.0",
            "_view_count": null,
            "_view_module_version": "1.2.0",
            "_model_module": "@jupyter-widgets/controls"
          }
        },
        "2ba266b078f049b3be27da897f9447ed": {
          "model_module": "@jupyter-widgets/base",
          "model_name": "LayoutModel",
          "model_module_version": "1.2.0",
          "state": {
            "_view_name": "LayoutView",
            "grid_template_rows": null,
            "right": null,
            "justify_content": null,
            "_view_module": "@jupyter-widgets/base",
            "overflow": null,
            "_model_module_version": "1.2.0",
            "_view_count": null,
            "flex_flow": null,
            "width": null,
            "min_width": null,
            "border": null,
            "align_items": null,
            "bottom": null,
            "_model_module": "@jupyter-widgets/base",
            "top": null,
            "grid_column": null,
            "overflow_y": null,
            "overflow_x": null,
            "grid_auto_flow": null,
            "grid_area": null,
            "grid_template_columns": null,
            "flex": null,
            "_model_name": "LayoutModel",
            "justify_items": null,
            "grid_row": null,
            "max_height": null,
            "align_content": null,
            "visibility": null,
            "align_self": null,
            "height": null,
            "min_height": null,
            "padding": null,
            "grid_auto_rows": null,
            "grid_gap": null,
            "max_width": null,
            "order": null,
            "_view_module_version": "1.2.0",
            "grid_template_areas": null,
            "object_position": null,
            "object_fit": null,
            "grid_auto_columns": null,
            "margin": null,
            "display": null,
            "left": null
          }
        },
        "a031181e56024a69b5f3967b0923e509": {
          "model_module": "@jupyter-widgets/controls",
          "model_name": "ProgressStyleModel",
          "model_module_version": "1.5.0",
          "state": {
            "_view_name": "StyleView",
            "_model_name": "ProgressStyleModel",
            "description_width": "",
            "_view_module": "@jupyter-widgets/base",
            "_model_module_version": "1.5.0",
            "_view_count": null,
            "_view_module_version": "1.2.0",
            "bar_color": null,
            "_model_module": "@jupyter-widgets/controls"
          }
        },
        "f1fb9809ca484c438136ba9bc0d320f2": {
          "model_module": "@jupyter-widgets/base",
          "model_name": "LayoutModel",
          "model_module_version": "1.2.0",
          "state": {
            "_view_name": "LayoutView",
            "grid_template_rows": null,
            "right": null,
            "justify_content": null,
            "_view_module": "@jupyter-widgets/base",
            "overflow": null,
            "_model_module_version": "1.2.0",
            "_view_count": null,
            "flex_flow": null,
            "width": null,
            "min_width": null,
            "border": null,
            "align_items": null,
            "bottom": null,
            "_model_module": "@jupyter-widgets/base",
            "top": null,
            "grid_column": null,
            "overflow_y": null,
            "overflow_x": null,
            "grid_auto_flow": null,
            "grid_area": null,
            "grid_template_columns": null,
            "flex": null,
            "_model_name": "LayoutModel",
            "justify_items": null,
            "grid_row": null,
            "max_height": null,
            "align_content": null,
            "visibility": null,
            "align_self": null,
            "height": null,
            "min_height": null,
            "padding": null,
            "grid_auto_rows": null,
            "grid_gap": null,
            "max_width": null,
            "order": null,
            "_view_module_version": "1.2.0",
            "grid_template_areas": null,
            "object_position": null,
            "object_fit": null,
            "grid_auto_columns": null,
            "margin": null,
            "display": null,
            "left": null
          }
        },
        "9eb3595af56b456591c7a0314092e9a6": {
          "model_module": "@jupyter-widgets/controls",
          "model_name": "DescriptionStyleModel",
          "model_module_version": "1.5.0",
          "state": {
            "_view_name": "StyleView",
            "_model_name": "DescriptionStyleModel",
            "description_width": "",
            "_view_module": "@jupyter-widgets/base",
            "_model_module_version": "1.5.0",
            "_view_count": null,
            "_view_module_version": "1.2.0",
            "_model_module": "@jupyter-widgets/controls"
          }
        },
        "9f0501ed07fc480289c41b0e71f934e8": {
          "model_module": "@jupyter-widgets/base",
          "model_name": "LayoutModel",
          "model_module_version": "1.2.0",
          "state": {
            "_view_name": "LayoutView",
            "grid_template_rows": null,
            "right": null,
            "justify_content": null,
            "_view_module": "@jupyter-widgets/base",
            "overflow": null,
            "_model_module_version": "1.2.0",
            "_view_count": null,
            "flex_flow": null,
            "width": null,
            "min_width": null,
            "border": null,
            "align_items": null,
            "bottom": null,
            "_model_module": "@jupyter-widgets/base",
            "top": null,
            "grid_column": null,
            "overflow_y": null,
            "overflow_x": null,
            "grid_auto_flow": null,
            "grid_area": null,
            "grid_template_columns": null,
            "flex": null,
            "_model_name": "LayoutModel",
            "justify_items": null,
            "grid_row": null,
            "max_height": null,
            "align_content": null,
            "visibility": null,
            "align_self": null,
            "height": null,
            "min_height": null,
            "padding": null,
            "grid_auto_rows": null,
            "grid_gap": null,
            "max_width": null,
            "order": null,
            "_view_module_version": "1.2.0",
            "grid_template_areas": null,
            "object_position": null,
            "object_fit": null,
            "grid_auto_columns": null,
            "margin": null,
            "display": null,
            "left": null
          }
        },
        "a0a66a0e015e4309804aa90bf86655a0": {
          "model_module": "@jupyter-widgets/controls",
          "model_name": "HBoxModel",
          "model_module_version": "1.5.0",
          "state": {
            "_view_name": "HBoxView",
            "_dom_classes": [],
            "_model_name": "HBoxModel",
            "_view_module": "@jupyter-widgets/controls",
            "_model_module_version": "1.5.0",
            "_view_count": null,
            "_view_module_version": "1.5.0",
            "box_style": "",
            "layout": "IPY_MODEL_9c130655e6d145d791da35f4da731268",
            "_model_module": "@jupyter-widgets/controls",
            "children": [
              "IPY_MODEL_75936a56f6404931b897369e05a04eab",
              "IPY_MODEL_152ff2ebdc064c40ae9d33eaa393811e",
              "IPY_MODEL_5e6c7e9efd164423a0f5679fafae3b2c"
            ]
          }
        },
        "9c130655e6d145d791da35f4da731268": {
          "model_module": "@jupyter-widgets/base",
          "model_name": "LayoutModel",
          "model_module_version": "1.2.0",
          "state": {
            "_view_name": "LayoutView",
            "grid_template_rows": null,
            "right": null,
            "justify_content": null,
            "_view_module": "@jupyter-widgets/base",
            "overflow": null,
            "_model_module_version": "1.2.0",
            "_view_count": null,
            "flex_flow": null,
            "width": null,
            "min_width": null,
            "border": null,
            "align_items": null,
            "bottom": null,
            "_model_module": "@jupyter-widgets/base",
            "top": null,
            "grid_column": null,
            "overflow_y": null,
            "overflow_x": null,
            "grid_auto_flow": null,
            "grid_area": null,
            "grid_template_columns": null,
            "flex": null,
            "_model_name": "LayoutModel",
            "justify_items": null,
            "grid_row": null,
            "max_height": null,
            "align_content": null,
            "visibility": null,
            "align_self": null,
            "height": null,
            "min_height": null,
            "padding": null,
            "grid_auto_rows": null,
            "grid_gap": null,
            "max_width": null,
            "order": null,
            "_view_module_version": "1.2.0",
            "grid_template_areas": null,
            "object_position": null,
            "object_fit": null,
            "grid_auto_columns": null,
            "margin": null,
            "display": null,
            "left": null
          }
        },
        "75936a56f6404931b897369e05a04eab": {
          "model_module": "@jupyter-widgets/controls",
          "model_name": "HTMLModel",
          "model_module_version": "1.5.0",
          "state": {
            "_view_name": "HTMLView",
            "style": "IPY_MODEL_2aebe2f14f394a139eeab00d8edfb18d",
            "_dom_classes": [],
            "description": "",
            "_model_name": "HTMLModel",
            "placeholder": "​",
            "_view_module": "@jupyter-widgets/controls",
            "_model_module_version": "1.5.0",
            "value": "Downloading: 100%",
            "_view_count": null,
            "_view_module_version": "1.5.0",
            "description_tooltip": null,
            "_model_module": "@jupyter-widgets/controls",
            "layout": "IPY_MODEL_85d7de4b15424b12bd0ab102acda7ca5"
          }
        },
        "152ff2ebdc064c40ae9d33eaa393811e": {
          "model_module": "@jupyter-widgets/controls",
          "model_name": "FloatProgressModel",
          "model_module_version": "1.5.0",
          "state": {
            "_view_name": "ProgressView",
            "style": "IPY_MODEL_6e738f0a7d564ee1a6e02020fa6a555e",
            "_dom_classes": [],
            "description": "",
            "_model_name": "FloatProgressModel",
            "bar_style": "success",
            "max": 52,
            "_view_module": "@jupyter-widgets/controls",
            "_model_module_version": "1.5.0",
            "value": 52,
            "_view_count": null,
            "_view_module_version": "1.5.0",
            "orientation": "horizontal",
            "min": 0,
            "description_tooltip": null,
            "_model_module": "@jupyter-widgets/controls",
            "layout": "IPY_MODEL_d92a648e68794bd3bbf4b205c7abee14"
          }
        },
        "5e6c7e9efd164423a0f5679fafae3b2c": {
          "model_module": "@jupyter-widgets/controls",
          "model_name": "HTMLModel",
          "model_module_version": "1.5.0",
          "state": {
            "_view_name": "HTMLView",
            "style": "IPY_MODEL_9d7f3e48bab040b885e1033882ed2200",
            "_dom_classes": [],
            "description": "",
            "_model_name": "HTMLModel",
            "placeholder": "​",
            "_view_module": "@jupyter-widgets/controls",
            "_model_module_version": "1.5.0",
            "value": " 52.0/52.0 [00:00&lt;00:00, 1.76kB/s]",
            "_view_count": null,
            "_view_module_version": "1.5.0",
            "description_tooltip": null,
            "_model_module": "@jupyter-widgets/controls",
            "layout": "IPY_MODEL_0670d019aa8b4f1ca01c4b585c002fe3"
          }
        },
        "2aebe2f14f394a139eeab00d8edfb18d": {
          "model_module": "@jupyter-widgets/controls",
          "model_name": "DescriptionStyleModel",
          "model_module_version": "1.5.0",
          "state": {
            "_view_name": "StyleView",
            "_model_name": "DescriptionStyleModel",
            "description_width": "",
            "_view_module": "@jupyter-widgets/base",
            "_model_module_version": "1.5.0",
            "_view_count": null,
            "_view_module_version": "1.2.0",
            "_model_module": "@jupyter-widgets/controls"
          }
        },
        "85d7de4b15424b12bd0ab102acda7ca5": {
          "model_module": "@jupyter-widgets/base",
          "model_name": "LayoutModel",
          "model_module_version": "1.2.0",
          "state": {
            "_view_name": "LayoutView",
            "grid_template_rows": null,
            "right": null,
            "justify_content": null,
            "_view_module": "@jupyter-widgets/base",
            "overflow": null,
            "_model_module_version": "1.2.0",
            "_view_count": null,
            "flex_flow": null,
            "width": null,
            "min_width": null,
            "border": null,
            "align_items": null,
            "bottom": null,
            "_model_module": "@jupyter-widgets/base",
            "top": null,
            "grid_column": null,
            "overflow_y": null,
            "overflow_x": null,
            "grid_auto_flow": null,
            "grid_area": null,
            "grid_template_columns": null,
            "flex": null,
            "_model_name": "LayoutModel",
            "justify_items": null,
            "grid_row": null,
            "max_height": null,
            "align_content": null,
            "visibility": null,
            "align_self": null,
            "height": null,
            "min_height": null,
            "padding": null,
            "grid_auto_rows": null,
            "grid_gap": null,
            "max_width": null,
            "order": null,
            "_view_module_version": "1.2.0",
            "grid_template_areas": null,
            "object_position": null,
            "object_fit": null,
            "grid_auto_columns": null,
            "margin": null,
            "display": null,
            "left": null
          }
        },
        "6e738f0a7d564ee1a6e02020fa6a555e": {
          "model_module": "@jupyter-widgets/controls",
          "model_name": "ProgressStyleModel",
          "model_module_version": "1.5.0",
          "state": {
            "_view_name": "StyleView",
            "_model_name": "ProgressStyleModel",
            "description_width": "",
            "_view_module": "@jupyter-widgets/base",
            "_model_module_version": "1.5.0",
            "_view_count": null,
            "_view_module_version": "1.2.0",
            "bar_color": null,
            "_model_module": "@jupyter-widgets/controls"
          }
        },
        "d92a648e68794bd3bbf4b205c7abee14": {
          "model_module": "@jupyter-widgets/base",
          "model_name": "LayoutModel",
          "model_module_version": "1.2.0",
          "state": {
            "_view_name": "LayoutView",
            "grid_template_rows": null,
            "right": null,
            "justify_content": null,
            "_view_module": "@jupyter-widgets/base",
            "overflow": null,
            "_model_module_version": "1.2.0",
            "_view_count": null,
            "flex_flow": null,
            "width": null,
            "min_width": null,
            "border": null,
            "align_items": null,
            "bottom": null,
            "_model_module": "@jupyter-widgets/base",
            "top": null,
            "grid_column": null,
            "overflow_y": null,
            "overflow_x": null,
            "grid_auto_flow": null,
            "grid_area": null,
            "grid_template_columns": null,
            "flex": null,
            "_model_name": "LayoutModel",
            "justify_items": null,
            "grid_row": null,
            "max_height": null,
            "align_content": null,
            "visibility": null,
            "align_self": null,
            "height": null,
            "min_height": null,
            "padding": null,
            "grid_auto_rows": null,
            "grid_gap": null,
            "max_width": null,
            "order": null,
            "_view_module_version": "1.2.0",
            "grid_template_areas": null,
            "object_position": null,
            "object_fit": null,
            "grid_auto_columns": null,
            "margin": null,
            "display": null,
            "left": null
          }
        },
        "9d7f3e48bab040b885e1033882ed2200": {
          "model_module": "@jupyter-widgets/controls",
          "model_name": "DescriptionStyleModel",
          "model_module_version": "1.5.0",
          "state": {
            "_view_name": "StyleView",
            "_model_name": "DescriptionStyleModel",
            "description_width": "",
            "_view_module": "@jupyter-widgets/base",
            "_model_module_version": "1.5.0",
            "_view_count": null,
            "_view_module_version": "1.2.0",
            "_model_module": "@jupyter-widgets/controls"
          }
        },
        "0670d019aa8b4f1ca01c4b585c002fe3": {
          "model_module": "@jupyter-widgets/base",
          "model_name": "LayoutModel",
          "model_module_version": "1.2.0",
          "state": {
            "_view_name": "LayoutView",
            "grid_template_rows": null,
            "right": null,
            "justify_content": null,
            "_view_module": "@jupyter-widgets/base",
            "overflow": null,
            "_model_module_version": "1.2.0",
            "_view_count": null,
            "flex_flow": null,
            "width": null,
            "min_width": null,
            "border": null,
            "align_items": null,
            "bottom": null,
            "_model_module": "@jupyter-widgets/base",
            "top": null,
            "grid_column": null,
            "overflow_y": null,
            "overflow_x": null,
            "grid_auto_flow": null,
            "grid_area": null,
            "grid_template_columns": null,
            "flex": null,
            "_model_name": "LayoutModel",
            "justify_items": null,
            "grid_row": null,
            "max_height": null,
            "align_content": null,
            "visibility": null,
            "align_self": null,
            "height": null,
            "min_height": null,
            "padding": null,
            "grid_auto_rows": null,
            "grid_gap": null,
            "max_width": null,
            "order": null,
            "_view_module_version": "1.2.0",
            "grid_template_areas": null,
            "object_position": null,
            "object_fit": null,
            "grid_auto_columns": null,
            "margin": null,
            "display": null,
            "left": null
          }
        },
        "7a9644d4ff074395929597ea50ed7ab2": {
          "model_module": "@jupyter-widgets/controls",
          "model_name": "HBoxModel",
          "model_module_version": "1.5.0",
          "state": {
            "_view_name": "HBoxView",
            "_dom_classes": [],
            "_model_name": "HBoxModel",
            "_view_module": "@jupyter-widgets/controls",
            "_model_module_version": "1.5.0",
            "_view_count": null,
            "_view_module_version": "1.5.0",
            "box_style": "",
            "layout": "IPY_MODEL_6a855f8fa83642f58d1f89ee5fd4256f",
            "_model_module": "@jupyter-widgets/controls",
            "children": [
              "IPY_MODEL_69e04e14deab4ed2b9de65a15fc187f3",
              "IPY_MODEL_55c410ff43c94a52a51331d063565f8b",
              "IPY_MODEL_c208ca20a413444392be5e32cd173145"
            ]
          }
        },
        "6a855f8fa83642f58d1f89ee5fd4256f": {
          "model_module": "@jupyter-widgets/base",
          "model_name": "LayoutModel",
          "model_module_version": "1.2.0",
          "state": {
            "_view_name": "LayoutView",
            "grid_template_rows": null,
            "right": null,
            "justify_content": null,
            "_view_module": "@jupyter-widgets/base",
            "overflow": null,
            "_model_module_version": "1.2.0",
            "_view_count": null,
            "flex_flow": null,
            "width": null,
            "min_width": null,
            "border": null,
            "align_items": null,
            "bottom": null,
            "_model_module": "@jupyter-widgets/base",
            "top": null,
            "grid_column": null,
            "overflow_y": null,
            "overflow_x": null,
            "grid_auto_flow": null,
            "grid_area": null,
            "grid_template_columns": null,
            "flex": null,
            "_model_name": "LayoutModel",
            "justify_items": null,
            "grid_row": null,
            "max_height": null,
            "align_content": null,
            "visibility": null,
            "align_self": null,
            "height": null,
            "min_height": null,
            "padding": null,
            "grid_auto_rows": null,
            "grid_gap": null,
            "max_width": null,
            "order": null,
            "_view_module_version": "1.2.0",
            "grid_template_areas": null,
            "object_position": null,
            "object_fit": null,
            "grid_auto_columns": null,
            "margin": null,
            "display": null,
            "left": null
          }
        },
        "69e04e14deab4ed2b9de65a15fc187f3": {
          "model_module": "@jupyter-widgets/controls",
          "model_name": "HTMLModel",
          "model_module_version": "1.5.0",
          "state": {
            "_view_name": "HTMLView",
            "style": "IPY_MODEL_7cbc2a6d5b964b7789bd4de26e82fb28",
            "_dom_classes": [],
            "description": "",
            "_model_name": "HTMLModel",
            "placeholder": "​",
            "_view_module": "@jupyter-widgets/controls",
            "_model_module_version": "1.5.0",
            "value": "Downloading: 100%",
            "_view_count": null,
            "_view_module_version": "1.5.0",
            "description_tooltip": null,
            "_model_module": "@jupyter-widgets/controls",
            "layout": "IPY_MODEL_549de0bbc2844a23944021431e29d303"
          }
        },
        "55c410ff43c94a52a51331d063565f8b": {
          "model_module": "@jupyter-widgets/controls",
          "model_name": "FloatProgressModel",
          "model_module_version": "1.5.0",
          "state": {
            "_view_name": "ProgressView",
            "style": "IPY_MODEL_3bcd6be8cb6f41df93a2d3febbb1ca41",
            "_dom_classes": [],
            "description": "",
            "_model_name": "FloatProgressModel",
            "bar_style": "success",
            "max": 579,
            "_view_module": "@jupyter-widgets/controls",
            "_model_module_version": "1.5.0",
            "value": 579,
            "_view_count": null,
            "_view_module_version": "1.5.0",
            "orientation": "horizontal",
            "min": 0,
            "description_tooltip": null,
            "_model_module": "@jupyter-widgets/controls",
            "layout": "IPY_MODEL_ed39b917b28e4a1f998f0f7db7a44635"
          }
        },
        "c208ca20a413444392be5e32cd173145": {
          "model_module": "@jupyter-widgets/controls",
          "model_name": "HTMLModel",
          "model_module_version": "1.5.0",
          "state": {
            "_view_name": "HTMLView",
            "style": "IPY_MODEL_fe3562af70374205a89b84025ce807b0",
            "_dom_classes": [],
            "description": "",
            "_model_name": "HTMLModel",
            "placeholder": "​",
            "_view_module": "@jupyter-widgets/controls",
            "_model_module_version": "1.5.0",
            "value": " 579/579 [00:00&lt;00:00, 18.1kB/s]",
            "_view_count": null,
            "_view_module_version": "1.5.0",
            "description_tooltip": null,
            "_model_module": "@jupyter-widgets/controls",
            "layout": "IPY_MODEL_988493454b5c4ee8a68e5f2884e9ab87"
          }
        },
        "7cbc2a6d5b964b7789bd4de26e82fb28": {
          "model_module": "@jupyter-widgets/controls",
          "model_name": "DescriptionStyleModel",
          "model_module_version": "1.5.0",
          "state": {
            "_view_name": "StyleView",
            "_model_name": "DescriptionStyleModel",
            "description_width": "",
            "_view_module": "@jupyter-widgets/base",
            "_model_module_version": "1.5.0",
            "_view_count": null,
            "_view_module_version": "1.2.0",
            "_model_module": "@jupyter-widgets/controls"
          }
        },
        "549de0bbc2844a23944021431e29d303": {
          "model_module": "@jupyter-widgets/base",
          "model_name": "LayoutModel",
          "model_module_version": "1.2.0",
          "state": {
            "_view_name": "LayoutView",
            "grid_template_rows": null,
            "right": null,
            "justify_content": null,
            "_view_module": "@jupyter-widgets/base",
            "overflow": null,
            "_model_module_version": "1.2.0",
            "_view_count": null,
            "flex_flow": null,
            "width": null,
            "min_width": null,
            "border": null,
            "align_items": null,
            "bottom": null,
            "_model_module": "@jupyter-widgets/base",
            "top": null,
            "grid_column": null,
            "overflow_y": null,
            "overflow_x": null,
            "grid_auto_flow": null,
            "grid_area": null,
            "grid_template_columns": null,
            "flex": null,
            "_model_name": "LayoutModel",
            "justify_items": null,
            "grid_row": null,
            "max_height": null,
            "align_content": null,
            "visibility": null,
            "align_self": null,
            "height": null,
            "min_height": null,
            "padding": null,
            "grid_auto_rows": null,
            "grid_gap": null,
            "max_width": null,
            "order": null,
            "_view_module_version": "1.2.0",
            "grid_template_areas": null,
            "object_position": null,
            "object_fit": null,
            "grid_auto_columns": null,
            "margin": null,
            "display": null,
            "left": null
          }
        },
        "3bcd6be8cb6f41df93a2d3febbb1ca41": {
          "model_module": "@jupyter-widgets/controls",
          "model_name": "ProgressStyleModel",
          "model_module_version": "1.5.0",
          "state": {
            "_view_name": "StyleView",
            "_model_name": "ProgressStyleModel",
            "description_width": "",
            "_view_module": "@jupyter-widgets/base",
            "_model_module_version": "1.5.0",
            "_view_count": null,
            "_view_module_version": "1.2.0",
            "bar_color": null,
            "_model_module": "@jupyter-widgets/controls"
          }
        },
        "ed39b917b28e4a1f998f0f7db7a44635": {
          "model_module": "@jupyter-widgets/base",
          "model_name": "LayoutModel",
          "model_module_version": "1.2.0",
          "state": {
            "_view_name": "LayoutView",
            "grid_template_rows": null,
            "right": null,
            "justify_content": null,
            "_view_module": "@jupyter-widgets/base",
            "overflow": null,
            "_model_module_version": "1.2.0",
            "_view_count": null,
            "flex_flow": null,
            "width": null,
            "min_width": null,
            "border": null,
            "align_items": null,
            "bottom": null,
            "_model_module": "@jupyter-widgets/base",
            "top": null,
            "grid_column": null,
            "overflow_y": null,
            "overflow_x": null,
            "grid_auto_flow": null,
            "grid_area": null,
            "grid_template_columns": null,
            "flex": null,
            "_model_name": "LayoutModel",
            "justify_items": null,
            "grid_row": null,
            "max_height": null,
            "align_content": null,
            "visibility": null,
            "align_self": null,
            "height": null,
            "min_height": null,
            "padding": null,
            "grid_auto_rows": null,
            "grid_gap": null,
            "max_width": null,
            "order": null,
            "_view_module_version": "1.2.0",
            "grid_template_areas": null,
            "object_position": null,
            "object_fit": null,
            "grid_auto_columns": null,
            "margin": null,
            "display": null,
            "left": null
          }
        },
        "fe3562af70374205a89b84025ce807b0": {
          "model_module": "@jupyter-widgets/controls",
          "model_name": "DescriptionStyleModel",
          "model_module_version": "1.5.0",
          "state": {
            "_view_name": "StyleView",
            "_model_name": "DescriptionStyleModel",
            "description_width": "",
            "_view_module": "@jupyter-widgets/base",
            "_model_module_version": "1.5.0",
            "_view_count": null,
            "_view_module_version": "1.2.0",
            "_model_module": "@jupyter-widgets/controls"
          }
        },
        "988493454b5c4ee8a68e5f2884e9ab87": {
          "model_module": "@jupyter-widgets/base",
          "model_name": "LayoutModel",
          "model_module_version": "1.2.0",
          "state": {
            "_view_name": "LayoutView",
            "grid_template_rows": null,
            "right": null,
            "justify_content": null,
            "_view_module": "@jupyter-widgets/base",
            "overflow": null,
            "_model_module_version": "1.2.0",
            "_view_count": null,
            "flex_flow": null,
            "width": null,
            "min_width": null,
            "border": null,
            "align_items": null,
            "bottom": null,
            "_model_module": "@jupyter-widgets/base",
            "top": null,
            "grid_column": null,
            "overflow_y": null,
            "overflow_x": null,
            "grid_auto_flow": null,
            "grid_area": null,
            "grid_template_columns": null,
            "flex": null,
            "_model_name": "LayoutModel",
            "justify_items": null,
            "grid_row": null,
            "max_height": null,
            "align_content": null,
            "visibility": null,
            "align_self": null,
            "height": null,
            "min_height": null,
            "padding": null,
            "grid_auto_rows": null,
            "grid_gap": null,
            "max_width": null,
            "order": null,
            "_view_module_version": "1.2.0",
            "grid_template_areas": null,
            "object_position": null,
            "object_fit": null,
            "grid_auto_columns": null,
            "margin": null,
            "display": null,
            "left": null
          }
        },
        "cf33af8b91c04417bac3ad98c0d9bb30": {
          "model_module": "@jupyter-widgets/controls",
          "model_name": "HBoxModel",
          "model_module_version": "1.5.0",
          "state": {
            "_view_name": "HBoxView",
            "_dom_classes": [],
            "_model_name": "HBoxModel",
            "_view_module": "@jupyter-widgets/controls",
            "_model_module_version": "1.5.0",
            "_view_count": null,
            "_view_module_version": "1.5.0",
            "box_style": "",
            "layout": "IPY_MODEL_4f2b90ffa0ea408e822b21d93e7205b4",
            "_model_module": "@jupyter-widgets/controls",
            "children": [
              "IPY_MODEL_02471d0141bb4b6ea5cfa503ae50fbbf",
              "IPY_MODEL_463f0313f4b9477fb8bd81ab4de4530b",
              "IPY_MODEL_a5db68893fd44762bc4f634791294de5"
            ]
          }
        },
        "4f2b90ffa0ea408e822b21d93e7205b4": {
          "model_module": "@jupyter-widgets/base",
          "model_name": "LayoutModel",
          "model_module_version": "1.2.0",
          "state": {
            "_view_name": "LayoutView",
            "grid_template_rows": null,
            "right": null,
            "justify_content": null,
            "_view_module": "@jupyter-widgets/base",
            "overflow": null,
            "_model_module_version": "1.2.0",
            "_view_count": null,
            "flex_flow": null,
            "width": null,
            "min_width": null,
            "border": null,
            "align_items": null,
            "bottom": null,
            "_model_module": "@jupyter-widgets/base",
            "top": null,
            "grid_column": null,
            "overflow_y": null,
            "overflow_x": null,
            "grid_auto_flow": null,
            "grid_area": null,
            "grid_template_columns": null,
            "flex": null,
            "_model_name": "LayoutModel",
            "justify_items": null,
            "grid_row": null,
            "max_height": null,
            "align_content": null,
            "visibility": null,
            "align_self": null,
            "height": null,
            "min_height": null,
            "padding": null,
            "grid_auto_rows": null,
            "grid_gap": null,
            "max_width": null,
            "order": null,
            "_view_module_version": "1.2.0",
            "grid_template_areas": null,
            "object_position": null,
            "object_fit": null,
            "grid_auto_columns": null,
            "margin": null,
            "display": null,
            "left": null
          }
        },
        "02471d0141bb4b6ea5cfa503ae50fbbf": {
          "model_module": "@jupyter-widgets/controls",
          "model_name": "HTMLModel",
          "model_module_version": "1.5.0",
          "state": {
            "_view_name": "HTMLView",
            "style": "IPY_MODEL_5eb7ada5a6104d2d9060ac2f9e3865a7",
            "_dom_classes": [],
            "description": "",
            "_model_name": "HTMLModel",
            "placeholder": "​",
            "_view_module": "@jupyter-widgets/controls",
            "_model_module_version": "1.5.0",
            "value": "Downloading: 100%",
            "_view_count": null,
            "_view_module_version": "1.5.0",
            "description_tooltip": null,
            "_model_module": "@jupyter-widgets/controls",
            "layout": "IPY_MODEL_9b24c3ba16aa42b3858cea81a9d948e9"
          }
        },
        "463f0313f4b9477fb8bd81ab4de4530b": {
          "model_module": "@jupyter-widgets/controls",
          "model_name": "FloatProgressModel",
          "model_module_version": "1.5.0",
          "state": {
            "_view_name": "ProgressView",
            "style": "IPY_MODEL_b161b1ba99424cd5878640c4e0faec4e",
            "_dom_classes": [],
            "description": "",
            "_model_name": "FloatProgressModel",
            "bar_style": "success",
            "max": 4305025,
            "_view_module": "@jupyter-widgets/controls",
            "_model_module_version": "1.5.0",
            "value": 4305025,
            "_view_count": null,
            "_view_module_version": "1.5.0",
            "orientation": "horizontal",
            "min": 0,
            "description_tooltip": null,
            "_model_module": "@jupyter-widgets/controls",
            "layout": "IPY_MODEL_499e5f2c82074bcc9e0540bdafd51de1"
          }
        },
        "a5db68893fd44762bc4f634791294de5": {
          "model_module": "@jupyter-widgets/controls",
          "model_name": "HTMLModel",
          "model_module_version": "1.5.0",
          "state": {
            "_view_name": "HTMLView",
            "style": "IPY_MODEL_e326c513d93c4bf48dcf908edcf4b158",
            "_dom_classes": [],
            "description": "",
            "_model_name": "HTMLModel",
            "placeholder": "​",
            "_view_module": "@jupyter-widgets/controls",
            "_model_module_version": "1.5.0",
            "value": " 4.11M/4.11M [00:00&lt;00:00, 10.1MB/s]",
            "_view_count": null,
            "_view_module_version": "1.5.0",
            "description_tooltip": null,
            "_model_module": "@jupyter-widgets/controls",
            "layout": "IPY_MODEL_ea617a78ccfa467cb069cfc254fb63bf"
          }
        },
        "5eb7ada5a6104d2d9060ac2f9e3865a7": {
          "model_module": "@jupyter-widgets/controls",
          "model_name": "DescriptionStyleModel",
          "model_module_version": "1.5.0",
          "state": {
            "_view_name": "StyleView",
            "_model_name": "DescriptionStyleModel",
            "description_width": "",
            "_view_module": "@jupyter-widgets/base",
            "_model_module_version": "1.5.0",
            "_view_count": null,
            "_view_module_version": "1.2.0",
            "_model_module": "@jupyter-widgets/controls"
          }
        },
        "9b24c3ba16aa42b3858cea81a9d948e9": {
          "model_module": "@jupyter-widgets/base",
          "model_name": "LayoutModel",
          "model_module_version": "1.2.0",
          "state": {
            "_view_name": "LayoutView",
            "grid_template_rows": null,
            "right": null,
            "justify_content": null,
            "_view_module": "@jupyter-widgets/base",
            "overflow": null,
            "_model_module_version": "1.2.0",
            "_view_count": null,
            "flex_flow": null,
            "width": null,
            "min_width": null,
            "border": null,
            "align_items": null,
            "bottom": null,
            "_model_module": "@jupyter-widgets/base",
            "top": null,
            "grid_column": null,
            "overflow_y": null,
            "overflow_x": null,
            "grid_auto_flow": null,
            "grid_area": null,
            "grid_template_columns": null,
            "flex": null,
            "_model_name": "LayoutModel",
            "justify_items": null,
            "grid_row": null,
            "max_height": null,
            "align_content": null,
            "visibility": null,
            "align_self": null,
            "height": null,
            "min_height": null,
            "padding": null,
            "grid_auto_rows": null,
            "grid_gap": null,
            "max_width": null,
            "order": null,
            "_view_module_version": "1.2.0",
            "grid_template_areas": null,
            "object_position": null,
            "object_fit": null,
            "grid_auto_columns": null,
            "margin": null,
            "display": null,
            "left": null
          }
        },
        "b161b1ba99424cd5878640c4e0faec4e": {
          "model_module": "@jupyter-widgets/controls",
          "model_name": "ProgressStyleModel",
          "model_module_version": "1.5.0",
          "state": {
            "_view_name": "StyleView",
            "_model_name": "ProgressStyleModel",
            "description_width": "",
            "_view_module": "@jupyter-widgets/base",
            "_model_module_version": "1.5.0",
            "_view_count": null,
            "_view_module_version": "1.2.0",
            "bar_color": null,
            "_model_module": "@jupyter-widgets/controls"
          }
        },
        "499e5f2c82074bcc9e0540bdafd51de1": {
          "model_module": "@jupyter-widgets/base",
          "model_name": "LayoutModel",
          "model_module_version": "1.2.0",
          "state": {
            "_view_name": "LayoutView",
            "grid_template_rows": null,
            "right": null,
            "justify_content": null,
            "_view_module": "@jupyter-widgets/base",
            "overflow": null,
            "_model_module_version": "1.2.0",
            "_view_count": null,
            "flex_flow": null,
            "width": null,
            "min_width": null,
            "border": null,
            "align_items": null,
            "bottom": null,
            "_model_module": "@jupyter-widgets/base",
            "top": null,
            "grid_column": null,
            "overflow_y": null,
            "overflow_x": null,
            "grid_auto_flow": null,
            "grid_area": null,
            "grid_template_columns": null,
            "flex": null,
            "_model_name": "LayoutModel",
            "justify_items": null,
            "grid_row": null,
            "max_height": null,
            "align_content": null,
            "visibility": null,
            "align_self": null,
            "height": null,
            "min_height": null,
            "padding": null,
            "grid_auto_rows": null,
            "grid_gap": null,
            "max_width": null,
            "order": null,
            "_view_module_version": "1.2.0",
            "grid_template_areas": null,
            "object_position": null,
            "object_fit": null,
            "grid_auto_columns": null,
            "margin": null,
            "display": null,
            "left": null
          }
        },
        "e326c513d93c4bf48dcf908edcf4b158": {
          "model_module": "@jupyter-widgets/controls",
          "model_name": "DescriptionStyleModel",
          "model_module_version": "1.5.0",
          "state": {
            "_view_name": "StyleView",
            "_model_name": "DescriptionStyleModel",
            "description_width": "",
            "_view_module": "@jupyter-widgets/base",
            "_model_module_version": "1.5.0",
            "_view_count": null,
            "_view_module_version": "1.2.0",
            "_model_module": "@jupyter-widgets/controls"
          }
        },
        "ea617a78ccfa467cb069cfc254fb63bf": {
          "model_module": "@jupyter-widgets/base",
          "model_name": "LayoutModel",
          "model_module_version": "1.2.0",
          "state": {
            "_view_name": "LayoutView",
            "grid_template_rows": null,
            "right": null,
            "justify_content": null,
            "_view_module": "@jupyter-widgets/base",
            "overflow": null,
            "_model_module_version": "1.2.0",
            "_view_count": null,
            "flex_flow": null,
            "width": null,
            "min_width": null,
            "border": null,
            "align_items": null,
            "bottom": null,
            "_model_module": "@jupyter-widgets/base",
            "top": null,
            "grid_column": null,
            "overflow_y": null,
            "overflow_x": null,
            "grid_auto_flow": null,
            "grid_area": null,
            "grid_template_columns": null,
            "flex": null,
            "_model_name": "LayoutModel",
            "justify_items": null,
            "grid_row": null,
            "max_height": null,
            "align_content": null,
            "visibility": null,
            "align_self": null,
            "height": null,
            "min_height": null,
            "padding": null,
            "grid_auto_rows": null,
            "grid_gap": null,
            "max_width": null,
            "order": null,
            "_view_module_version": "1.2.0",
            "grid_template_areas": null,
            "object_position": null,
            "object_fit": null,
            "grid_auto_columns": null,
            "margin": null,
            "display": null,
            "left": null
          }
        },
        "a27bf21d45c34b3c9bcc91d5a71006c3": {
          "model_module": "@jupyter-widgets/controls",
          "model_name": "HBoxModel",
          "model_module_version": "1.5.0",
          "state": {
            "_view_name": "HBoxView",
            "_dom_classes": [],
            "_model_name": "HBoxModel",
            "_view_module": "@jupyter-widgets/controls",
            "_model_module_version": "1.5.0",
            "_view_count": null,
            "_view_module_version": "1.5.0",
            "box_style": "",
            "layout": "IPY_MODEL_be5b031f0a074060907c81fcb070bc94",
            "_model_module": "@jupyter-widgets/controls",
            "children": [
              "IPY_MODEL_88889d127b4e4cc7bc89137617201e2a",
              "IPY_MODEL_1b416166b72d48e7a465a6ac5e2967d8",
              "IPY_MODEL_b544634b2694415b9d02aaea76e2061b"
            ]
          }
        },
        "be5b031f0a074060907c81fcb070bc94": {
          "model_module": "@jupyter-widgets/base",
          "model_name": "LayoutModel",
          "model_module_version": "1.2.0",
          "state": {
            "_view_name": "LayoutView",
            "grid_template_rows": null,
            "right": null,
            "justify_content": null,
            "_view_module": "@jupyter-widgets/base",
            "overflow": null,
            "_model_module_version": "1.2.0",
            "_view_count": null,
            "flex_flow": null,
            "width": null,
            "min_width": null,
            "border": null,
            "align_items": null,
            "bottom": null,
            "_model_module": "@jupyter-widgets/base",
            "top": null,
            "grid_column": null,
            "overflow_y": null,
            "overflow_x": null,
            "grid_auto_flow": null,
            "grid_area": null,
            "grid_template_columns": null,
            "flex": null,
            "_model_name": "LayoutModel",
            "justify_items": null,
            "grid_row": null,
            "max_height": null,
            "align_content": null,
            "visibility": null,
            "align_self": null,
            "height": null,
            "min_height": null,
            "padding": null,
            "grid_auto_rows": null,
            "grid_gap": null,
            "max_width": null,
            "order": null,
            "_view_module_version": "1.2.0",
            "grid_template_areas": null,
            "object_position": null,
            "object_fit": null,
            "grid_auto_columns": null,
            "margin": null,
            "display": null,
            "left": null
          }
        },
        "88889d127b4e4cc7bc89137617201e2a": {
          "model_module": "@jupyter-widgets/controls",
          "model_name": "HTMLModel",
          "model_module_version": "1.5.0",
          "state": {
            "_view_name": "HTMLView",
            "style": "IPY_MODEL_010eb6c6379f4db2b5d60ec3ca28ee24",
            "_dom_classes": [],
            "description": "",
            "_model_name": "HTMLModel",
            "placeholder": "​",
            "_view_module": "@jupyter-widgets/controls",
            "_model_module_version": "1.5.0",
            "value": "Downloading: 100%",
            "_view_count": null,
            "_view_module_version": "1.5.0",
            "description_tooltip": null,
            "_model_module": "@jupyter-widgets/controls",
            "layout": "IPY_MODEL_113e740143814dc69c7798bf69e14a77"
          }
        },
        "1b416166b72d48e7a465a6ac5e2967d8": {
          "model_module": "@jupyter-widgets/controls",
          "model_name": "FloatProgressModel",
          "model_module_version": "1.5.0",
          "state": {
            "_view_name": "ProgressView",
            "style": "IPY_MODEL_0f6a3b09ef43481396ce97c955c4ca9f",
            "_dom_classes": [],
            "description": "",
            "_model_name": "FloatProgressModel",
            "bar_style": "success",
            "max": 560166373,
            "_view_module": "@jupyter-widgets/controls",
            "_model_module_version": "1.5.0",
            "value": 560166373,
            "_view_count": null,
            "_view_module_version": "1.5.0",
            "orientation": "horizontal",
            "min": 0,
            "description_tooltip": null,
            "_model_module": "@jupyter-widgets/controls",
            "layout": "IPY_MODEL_9eb7401786124a0e86405ec15de0cf63"
          }
        },
        "b544634b2694415b9d02aaea76e2061b": {
          "model_module": "@jupyter-widgets/controls",
          "model_name": "HTMLModel",
          "model_module_version": "1.5.0",
          "state": {
            "_view_name": "HTMLView",
            "style": "IPY_MODEL_367a1807590f4b3a82a527c7842ab3bd",
            "_dom_classes": [],
            "description": "",
            "_model_name": "HTMLModel",
            "placeholder": "​",
            "_view_module": "@jupyter-widgets/controls",
            "_model_module_version": "1.5.0",
            "value": " 534M/534M [00:15&lt;00:00, 35.8MB/s]",
            "_view_count": null,
            "_view_module_version": "1.5.0",
            "description_tooltip": null,
            "_model_module": "@jupyter-widgets/controls",
            "layout": "IPY_MODEL_5c4504a0dde449e19a77835e6293e1e8"
          }
        },
        "010eb6c6379f4db2b5d60ec3ca28ee24": {
          "model_module": "@jupyter-widgets/controls",
          "model_name": "DescriptionStyleModel",
          "model_module_version": "1.5.0",
          "state": {
            "_view_name": "StyleView",
            "_model_name": "DescriptionStyleModel",
            "description_width": "",
            "_view_module": "@jupyter-widgets/base",
            "_model_module_version": "1.5.0",
            "_view_count": null,
            "_view_module_version": "1.2.0",
            "_model_module": "@jupyter-widgets/controls"
          }
        },
        "113e740143814dc69c7798bf69e14a77": {
          "model_module": "@jupyter-widgets/base",
          "model_name": "LayoutModel",
          "model_module_version": "1.2.0",
          "state": {
            "_view_name": "LayoutView",
            "grid_template_rows": null,
            "right": null,
            "justify_content": null,
            "_view_module": "@jupyter-widgets/base",
            "overflow": null,
            "_model_module_version": "1.2.0",
            "_view_count": null,
            "flex_flow": null,
            "width": null,
            "min_width": null,
            "border": null,
            "align_items": null,
            "bottom": null,
            "_model_module": "@jupyter-widgets/base",
            "top": null,
            "grid_column": null,
            "overflow_y": null,
            "overflow_x": null,
            "grid_auto_flow": null,
            "grid_area": null,
            "grid_template_columns": null,
            "flex": null,
            "_model_name": "LayoutModel",
            "justify_items": null,
            "grid_row": null,
            "max_height": null,
            "align_content": null,
            "visibility": null,
            "align_self": null,
            "height": null,
            "min_height": null,
            "padding": null,
            "grid_auto_rows": null,
            "grid_gap": null,
            "max_width": null,
            "order": null,
            "_view_module_version": "1.2.0",
            "grid_template_areas": null,
            "object_position": null,
            "object_fit": null,
            "grid_auto_columns": null,
            "margin": null,
            "display": null,
            "left": null
          }
        },
        "0f6a3b09ef43481396ce97c955c4ca9f": {
          "model_module": "@jupyter-widgets/controls",
          "model_name": "ProgressStyleModel",
          "model_module_version": "1.5.0",
          "state": {
            "_view_name": "StyleView",
            "_model_name": "ProgressStyleModel",
            "description_width": "",
            "_view_module": "@jupyter-widgets/base",
            "_model_module_version": "1.5.0",
            "_view_count": null,
            "_view_module_version": "1.2.0",
            "bar_color": null,
            "_model_module": "@jupyter-widgets/controls"
          }
        },
        "9eb7401786124a0e86405ec15de0cf63": {
          "model_module": "@jupyter-widgets/base",
          "model_name": "LayoutModel",
          "model_module_version": "1.2.0",
          "state": {
            "_view_name": "LayoutView",
            "grid_template_rows": null,
            "right": null,
            "justify_content": null,
            "_view_module": "@jupyter-widgets/base",
            "overflow": null,
            "_model_module_version": "1.2.0",
            "_view_count": null,
            "flex_flow": null,
            "width": null,
            "min_width": null,
            "border": null,
            "align_items": null,
            "bottom": null,
            "_model_module": "@jupyter-widgets/base",
            "top": null,
            "grid_column": null,
            "overflow_y": null,
            "overflow_x": null,
            "grid_auto_flow": null,
            "grid_area": null,
            "grid_template_columns": null,
            "flex": null,
            "_model_name": "LayoutModel",
            "justify_items": null,
            "grid_row": null,
            "max_height": null,
            "align_content": null,
            "visibility": null,
            "align_self": null,
            "height": null,
            "min_height": null,
            "padding": null,
            "grid_auto_rows": null,
            "grid_gap": null,
            "max_width": null,
            "order": null,
            "_view_module_version": "1.2.0",
            "grid_template_areas": null,
            "object_position": null,
            "object_fit": null,
            "grid_auto_columns": null,
            "margin": null,
            "display": null,
            "left": null
          }
        },
        "367a1807590f4b3a82a527c7842ab3bd": {
          "model_module": "@jupyter-widgets/controls",
          "model_name": "DescriptionStyleModel",
          "model_module_version": "1.5.0",
          "state": {
            "_view_name": "StyleView",
            "_model_name": "DescriptionStyleModel",
            "description_width": "",
            "_view_module": "@jupyter-widgets/base",
            "_model_module_version": "1.5.0",
            "_view_count": null,
            "_view_module_version": "1.2.0",
            "_model_module": "@jupyter-widgets/controls"
          }
        },
        "5c4504a0dde449e19a77835e6293e1e8": {
          "model_module": "@jupyter-widgets/base",
          "model_name": "LayoutModel",
          "model_module_version": "1.2.0",
          "state": {
            "_view_name": "LayoutView",
            "grid_template_rows": null,
            "right": null,
            "justify_content": null,
            "_view_module": "@jupyter-widgets/base",
            "overflow": null,
            "_model_module_version": "1.2.0",
            "_view_count": null,
            "flex_flow": null,
            "width": null,
            "min_width": null,
            "border": null,
            "align_items": null,
            "bottom": null,
            "_model_module": "@jupyter-widgets/base",
            "top": null,
            "grid_column": null,
            "overflow_y": null,
            "overflow_x": null,
            "grid_auto_flow": null,
            "grid_area": null,
            "grid_template_columns": null,
            "flex": null,
            "_model_name": "LayoutModel",
            "justify_items": null,
            "grid_row": null,
            "max_height": null,
            "align_content": null,
            "visibility": null,
            "align_self": null,
            "height": null,
            "min_height": null,
            "padding": null,
            "grid_auto_rows": null,
            "grid_gap": null,
            "max_width": null,
            "order": null,
            "_view_module_version": "1.2.0",
            "grid_template_areas": null,
            "object_position": null,
            "object_fit": null,
            "grid_auto_columns": null,
            "margin": null,
            "display": null,
            "left": null
          }
        }
      }
    }
  },
  "nbformat": 4,
  "nbformat_minor": 0
}