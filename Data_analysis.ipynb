{
 "cells": [
  {
   "cell_type": "markdown",
   "metadata": {},
   "source": [
    "**In this notebook, we discover the data and make some analysis that helps us choose the models that we want to test.**\n"
   ]
  },
  {
   "cell_type": "code",
   "execution_count": 1,
   "metadata": {},
   "outputs": [],
   "source": [
    "import os\n",
    "import pandas as pd\n",
    "from langdetect import detect, DetectorFactory\n",
    "import matplotlib.pyplot as plt\n",
    "import re\n",
    "from emoji import UNICODE_EMOJI"
   ]
  },
  {
   "cell_type": "code",
   "execution_count": 2,
   "metadata": {},
   "outputs": [],
   "source": [
    "data_file = 'sentiment-analysis-test/data/train.csv'"
   ]
  },
  {
   "cell_type": "code",
   "execution_count": 3,
   "metadata": {},
   "outputs": [],
   "source": [
    "df = pd.read_csv(data_file)"
   ]
  },
  {
   "cell_type": "markdown",
   "metadata": {},
   "source": [
    "# Distribution of the classes\n"
   ]
  },
  {
   "cell_type": "code",
   "execution_count": 4,
   "metadata": {},
   "outputs": [
    {
     "data": {
      "text/plain": [
       "Text(0.5, 1.0, 'Distribution of the sentiments')"
      ]
     },
     "execution_count": 4,
     "metadata": {},
     "output_type": "execute_result"
    },
    {
     "data": {
      "image/png": "[encoded data removed]",
      "text/plain": [
       "<Figure size 432x288 with 1 Axes>"
      ]
     },
     "metadata": {
      "needs_background": "light"
     },
     "output_type": "display_data"
    }
   ],
   "source": [
    "df['sentiment'].hist()\n",
    "plt.title('Distribution of the sentiments')"
   ]
  },
  {
   "cell_type": "code",
   "execution_count": 5,
   "metadata": {},
   "outputs": [
    {
     "data": {
      "text/plain": [
       "neutral       8823\n",
       "positive      8318\n",
       "negative      7858\n",
       "unassigned       1\n",
       "Name: sentiment, dtype: int64"
      ]
     },
     "execution_count": 5,
     "metadata": {},
     "output_type": "execute_result"
    }
   ],
   "source": [
    "df['sentiment'].value_counts()\n"
   ]
  },
  {
   "cell_type": "markdown",
   "metadata": {},
   "source": [
    "Basically the dataset in **balanced** where the number of examples classified as \"neutral\" is slightly bigger than the number of \"positive\" and \"negative\" examples.\n",
    "We can see that there is on example which is attributed to the class **\"unassigned\"**  that we start by removing.\n"
   ]
  },
  {
   "cell_type": "code",
   "execution_count": 6,
   "metadata": {},
   "outputs": [],
   "source": [
    "df = df[df['sentiment'] != 'unassigned']"
   ]
  },
  {
   "cell_type": "markdown",
   "metadata": {},
   "source": [
    "# Language analysis"
   ]
  },
  {
   "cell_type": "code",
   "execution_count": 7,
   "metadata": {},
   "outputs": [],
   "source": [
    "def detect_language(x):\n",
    "    try :\n",
    "        return detect(x)\n",
    "    except :\n",
    "        return 'Others'\n"
   ]
  },
  {
   "cell_type": "code",
   "execution_count": 8,
   "metadata": {},
   "outputs": [],
   "source": [
    "languages = df['content'].apply(detect_language)\n"
   ]
  },
  {
   "cell_type": "code",
   "execution_count": 9,
   "metadata": {},
   "outputs": [
    {
     "name": "stdout",
     "output_type": "stream",
     "text": [
      "0.002280091203648146 % are classified as others which are contents ith emojis and or written in kmerian\n"
     ]
    }
   ],
   "source": [
    "print(sum(languages == 'Others')/df.shape[0], '% are classified as others which are contents ith emojis and or written in kmerian')"
   ]
  },
  {
   "cell_type": "code",
   "execution_count": 13,
   "metadata": {},
   "outputs": [
    {
     "data": {
      "image/png": "[encoded data removed]",
      "text/plain": [
       "<Figure size 432x288 with 1 Axes>"
      ]
     },
     "metadata": {
      "needs_background": "light"
     },
     "output_type": "display_data"
    },
    {
     "name": "stdout",
     "output_type": "stream",
     "text": [
      "We can see that a great variance in the language's frequency between the 54 different languages present in our dataset: while the most frequent language reprensent 0.16% of our training dataset with 4058 content, the most rare language only appears 2 times.\n",
      "Next, we take a closer look on the most frequent languages\n"
     ]
    }
   ],
   "source": [
    "v = pd.value_counts(languages)\n",
    "plt.bar(range(v.shape[0]), v.values)\n",
    "plt.title('Frequency of different languages')\n",
    "plt.show()\n",
    "print(\"We can see that a great variance in the language's frequency between the {} different languages present in our dataset:\".format(len(v)),\n",
    "      \"while the most frequent language reprensent {}% of our training dataset with {} content, the most rare language only appears {} times.\".format(round(v[0]/df.shape[0], 2), v[0], v[-1]))\n",
    "print('Next, we take a closer look on the most frequent languages')"
   ]
  },
  {
   "cell_type": "code",
   "execution_count": 14,
   "metadata": {},
   "outputs": [],
   "source": [
    "languages_code = {'en':'english',\n",
    "                 'ru': 'russian', \n",
    "                 'id': 'Indonesian',\n",
    "                 'ar': 'Arabic',\n",
    "                 'fr': 'French',\n",
    "                 'es': 'Spanish',\n",
    "                 'pt': 'Portuguese',\n",
    "                 'ko': 'Korean',\n",
    "                 'zh-cn': 'Chinese',\n",
    "                 'ja': 'Japanese',\n",
    "                 'it': 'Italian',\n",
    "                 'de': 'German',\n",
    "                 'th': 'Thai',\n",
    "                 'tr': 'Turkish',\n",
    "                 'tl': 'Tagalog',\n",
    "                 'so': 'Somali',\n",
    "                 'vi': 'Vietnamese',\n",
    "                 'pl': 'Polish',\n",
    "                 'et': 'Estonian',\n",
    "                 'nl': 'Dutch/Flemish'}\n",
    "                 \n",
    "                 \n"
   ]
  },
  {
   "cell_type": "code",
   "execution_count": 20,
   "metadata": {},
   "outputs": [
    {
     "data": {
      "image/png": "[encoded data removed]",
      "text/plain": [
       "<Figure size 432x288 with 1 Axes>"
      ]
     },
     "metadata": {
      "needs_background": "light"
     },
     "output_type": "display_data"
    }
   ],
   "source": [
    "plt.bar(v[:20].index, v[:20].values)\n",
    "table = plt.table(cellText=list(languages_code.items()),\n",
    "                  colLabels=['code', 'language'], loc = 'right')\n",
    "plt.subplots_adjust(left=0.1, bottom=0.2)\n",
    "plt.title('The frequencies of the 20 most frequent languages ')\n",
    "plt.show()\n"
   ]
  },
  {
   "cell_type": "markdown",
   "metadata": {},
   "source": [
    "Not only our dataset in a multilingual one with more than 50 languages.\n",
    "--> We need to use a **multilingual model** or combine train a **different model for each language** and combine it with a **language detection** model.\n",
    "\n",
    "However, there are two facts that make the second option unrealisable:\n",
    "- Some of the most frequent languages, such as the Japanese, Chinese and the Arabic, are \"rare\" languages that are underrepresented in the literature which makes it difficult to find a model pretrained on those languages\n",
    "- The open source language detection models are computionnaly expensive and not very performant.\n",
    "\n",
    "--> For those reasons, we choose to use a **unique multilingual model**."
   ]
  },
  {
   "cell_type": "markdown",
   "metadata": {},
   "source": [
    "# Length analysis "
   ]
  },
  {
   "cell_type": "code",
   "execution_count": 21,
   "metadata": {},
   "outputs": [],
   "source": [
    "content_lengths = df['content'].apply(lambda x: len(x.split()))"
   ]
  },
  {
   "cell_type": "code",
   "execution_count": 22,
   "metadata": {},
   "outputs": [
    {
     "data": {
      "text/plain": [
       "count    24999.000000\n",
       "mean        18.658666\n",
       "std         45.455195\n",
       "min          1.000000\n",
       "25%          5.000000\n",
       "50%         10.000000\n",
       "75%         18.000000\n",
       "max       2994.000000\n",
       "Name: content, dtype: float64"
      ]
     },
     "execution_count": 22,
     "metadata": {},
     "output_type": "execute_result"
    }
   ],
   "source": [
    "content_lengths.describe()"
   ]
  },
  {
   "cell_type": "markdown",
   "metadata": {},
   "source": [
    "We can see that 75% of the contents are composed of less than 18 words. \n",
    "\n",
    "--> This motivates us to use **bert-based** language models since the **sequences length is not too big** and best-based model have limited sequence size."
   ]
  },
  {
   "cell_type": "markdown",
   "metadata": {},
   "source": [
    "# Evaluation process and conclusion"
   ]
  },
  {
   "cell_type": "markdown",
   "metadata": {},
   "source": [
    "We handle the problem as a multi-class classification task with three classes: 'neutral', 'positive' and 'negative'.\n",
    "For both classes 'positive' and \"negative', \n",
    "we will be calculating the precision and recall per class and the f1 score. \n",
    "\n",
    "\n",
    "\n",
    "**Business assumption:**\n",
    "We may assume that the most harmful misclassification for synthesio's clients is missing 'negative' sentiments in the online shared content, either about their brand or about competitors. In fact, detecting the negative signals in social media about the brand itself is the primary key and the first step to improve the product and fit the users' expectations, and capturing the negative signals about competitors is the primary key to acquire new market shares. \n",
    "--> We may use this assumtion to give extra-attention to the **recall of the \"negative\" class'** and to the **precesion of the \"positive\" class** by applying a weighted average. \n",
    "\n",
    "--> We will only use this weighted average if we find two models that have comparable scores (precision per class, recall per class and f1 score) "
   ]
  }
 ],
 "metadata": {
  "kernelspec": {
   "display_name": "pdf_to_data",
   "language": "python",
   "name": "pdf_to_data"
  },
  "language_info": {
   "codemirror_mode": {
    "name": "ipython",
    "version": 3
   },
   "file_extension": ".py",
   "mimetype": "text/x-python",
   "name": "python",
   "nbconvert_exporter": "python",
   "pygments_lexer": "ipython3",
   "version": "3.7.0"
  }
 },
 "nbformat": 4,
 "nbformat_minor": 4
}
